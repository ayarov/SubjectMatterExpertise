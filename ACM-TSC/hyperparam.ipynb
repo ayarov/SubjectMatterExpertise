{
 "cells": [
  {
   "cell_type": "markdown",
   "metadata": {},
   "source": [
    "## XGB Hyper-parameters"
   ]
  },
  {
   "cell_type": "code",
   "execution_count": null,
   "metadata": {},
   "outputs": [],
   "source": [
    "xgb_model = XGBClassifier()\n",
    "\n",
    "parameters = {'nthread':[4], #when use hyperthread, xgboost may become slower\n",
    "              'objective':['binary:logistic'],\n",
    "              'learning_rate': [0.01, 0.05, 0.09], #so called `eta` value\n",
    "              'max_depth': [5, 6, 7],\n",
    "              'min_child_weight': [7, 9, 11],\n",
    "              'silent': [1],\n",
    "              'subsample': [0.5, 0.8],\n",
    "              'colsample_bytree': [0.5, 0.7],\n",
    "              'n_estimators': [100, 150, 200], #number of trees, change it to 1000 for better results\n",
    "              'missing':[-999],\n",
    "              'seed': [random_state]}\n",
    "\n",
    "clf = GridSearchCV(xgb_model, parameters, n_jobs=5, \n",
    "                   cv=kfold, \n",
    "                   scoring='roc_auc',\n",
    "                   verbose=2, refit=True)\n",
    "\n",
    "clf.fit(X_train, y_train)\n",
    "\n",
    "# best_parameters, score, _ = max(clf.grid_scores_, key=lambda x: x[1])\n",
    "# print('Raw AUC score:', score)\n",
    "# for param_name in sorted(best_parameters.keys()):\n",
    "#     print(\"%s: %r\" % (param_name, best_parameters[param_name]))"
   ]
  },
  {
   "cell_type": "code",
   "execution_count": null,
   "metadata": {},
   "outputs": [],
   "source": [
    "clf.best_params_"
   ]
  }
 ],
 "metadata": {
  "kernelspec": {
   "display_name": "Python 3",
   "language": "python",
   "name": "python3"
  },
  "language_info": {
   "codemirror_mode": {
    "name": "ipython",
    "version": 3
   },
   "file_extension": ".py",
   "mimetype": "text/x-python",
   "name": "python",
   "nbconvert_exporter": "python",
   "pygments_lexer": "ipython3",
   "version": "3.7.1"
  }
 },
 "nbformat": 4,
 "nbformat_minor": 2
}
