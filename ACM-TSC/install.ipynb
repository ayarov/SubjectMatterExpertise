{
 "cells": [
  {
   "cell_type": "code",
   "execution_count": 3,
   "metadata": {},
   "outputs": [
    {
     "name": "stdout",
     "output_type": "stream",
     "text": [
      "pip 18.1 from /home/yarov/anaconda3/lib/python3.7/site-packages/pip (python 3.7)\n"
     ]
    }
   ],
   "source": [
    "!pip --version"
   ]
  },
  {
   "cell_type": "code",
   "execution_count": 4,
   "metadata": {},
   "outputs": [
    {
     "name": "stdout",
     "output_type": "stream",
     "text": [
      "Collecting shap\n",
      "\u001b[?25l  Downloading https://files.pythonhosted.org/packages/7c/e2/4050c2e68639adf0f8a8a4857f234b71fe1a1139e25ff17575c935f49615/shap-0.33.0.tar.gz (263kB)\n",
      "\u001b[K    100% |████████████████████████████████| 266kB 546kB/s \n",
      "\u001b[?25hRequirement already satisfied: numpy in /home/yarov/anaconda3/lib/python3.7/site-packages (from shap) (1.15.4)\n",
      "Requirement already satisfied: scipy in /home/yarov/anaconda3/lib/python3.7/site-packages (from shap) (1.1.0)\n",
      "Requirement already satisfied: scikit-learn in /home/yarov/anaconda3/lib/python3.7/site-packages (from shap) (0.20.1)\n",
      "Requirement already satisfied: pandas in /home/yarov/anaconda3/lib/python3.7/site-packages (from shap) (0.23.4)\n",
      "Requirement already satisfied: tqdm>4.25.0 in /home/yarov/anaconda3/lib/python3.7/site-packages (from shap) (4.28.1)\n",
      "Requirement already satisfied: python-dateutil>=2.5.0 in /home/yarov/anaconda3/lib/python3.7/site-packages (from pandas->shap) (2.7.5)\n",
      "Requirement already satisfied: pytz>=2011k in /home/yarov/anaconda3/lib/python3.7/site-packages (from pandas->shap) (2018.7)\n",
      "Requirement already satisfied: six>=1.5 in /home/yarov/anaconda3/lib/python3.7/site-packages (from python-dateutil>=2.5.0->pandas->shap) (1.12.0)\n",
      "Building wheels for collected packages: shap\n",
      "  Running setup.py bdist_wheel for shap ... \u001b[?25ldone\n",
      "\u001b[?25h  Stored in directory: /home/yarov/.cache/pip/wheels/39/0f/88/a8124d43431284e10f263ffe449e119344c6145c3a165d186c\n",
      "Successfully built shap\n",
      "Installing collected packages: shap\n",
      "Successfully installed shap-0.33.0\n"
     ]
    }
   ],
   "source": [
    "!pip install shap"
   ]
  },
  {
   "cell_type": "code",
   "execution_count": 5,
   "metadata": {},
   "outputs": [
    {
     "name": "stdout",
     "output_type": "stream",
     "text": [
      "Collecting lightgbm\n",
      "\u001b[?25l  Downloading https://files.pythonhosted.org/packages/0b/9d/ddcb2f43aca194987f1a99e27edf41cf9bc39ea750c3371c2a62698c509a/lightgbm-2.3.1-py2.py3-none-manylinux1_x86_64.whl (1.2MB)\n",
      "\u001b[K    100% |████████████████████████████████| 1.2MB 2.4MB/s \n",
      "\u001b[?25hRequirement already satisfied: scipy in /home/yarov/anaconda3/lib/python3.7/site-packages (from lightgbm) (1.1.0)\n",
      "Requirement already satisfied: numpy in /home/yarov/anaconda3/lib/python3.7/site-packages (from lightgbm) (1.15.4)\n",
      "Requirement already satisfied: scikit-learn in /home/yarov/anaconda3/lib/python3.7/site-packages (from lightgbm) (0.20.1)\n",
      "Installing collected packages: lightgbm\n",
      "Successfully installed lightgbm-2.3.1\n"
     ]
    }
   ],
   "source": [
    "!pip install lightgbm"
   ]
  }
 ],
 "metadata": {
  "kernelspec": {
   "display_name": "Python 3",
   "language": "python",
   "name": "python3"
  },
  "language_info": {
   "codemirror_mode": {
    "name": "ipython",
    "version": 3
   },
   "file_extension": ".py",
   "mimetype": "text/x-python",
   "name": "python",
   "nbconvert_exporter": "python",
   "pygments_lexer": "ipython3",
   "version": "3.7.1"
  }
 },
 "nbformat": 4,
 "nbformat_minor": 2
}
