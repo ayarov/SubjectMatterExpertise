{
 "cells": [
  {
   "cell_type": "code",
   "execution_count": null,
   "metadata": {},
   "outputs": [],
   "source": [
    "'''\n",
    "class sklearn.svm.SVC(C=1.0, \n",
    "kernel='rbf', \n",
    "degree=3, \n",
    "gamma='scale', \n",
    "coef0=0.0, \n",
    "shrinking=True, \n",
    "probability=False, \n",
    "tol=0.001, \n",
    "cache_size=200, \n",
    "class_weight=None, verbose=False, max_iter=-1, decision_function_shape='ovr', break_ties=False, random_state=None)[source]\n",
    "\n",
    "It must be one of ‘linear’, ‘poly’, ‘rbf’, ‘sigmoid’, ‘precomputed’ or a callable. \n",
    "'''\n",
    "\n",
    "from sklearn.svm import SVC\n",
    "svm_model = SVC(kernel='rbf', random_state=best_params['seed'], gamma='auto')\n",
    "cross_validation(classifier=svm_model, x=X_train, y=y_train, cv=kfold)"
   ]
  },
  {
   "cell_type": "markdown",
   "metadata": {},
   "source": [
    "rbf\n",
    "---\n",
    "Accuracy: 0.599%\n",
    "Precision: 0.580%\n",
    "Recall: 0.704%\n",
    "F1: 0.635%\n",
    "ROC AUC: 0.638%\n",
    "\n",
    "linear\n",
    "------\n",
    "Accuracy: 0.602%\n",
    "Precision: 0.602%\n",
    "Recall: 0.598%\n",
    "F1: 0.598%\n",
    "ROC AUC: 0.663%"
   ]
  },
  {
   "cell_type": "code",
   "execution_count": null,
   "metadata": {},
   "outputs": [],
   "source": []
  }
 ],
 "metadata": {
  "kernelspec": {
   "display_name": "Python 3",
   "language": "python",
   "name": "python3"
  },
  "language_info": {
   "codemirror_mode": {
    "name": "ipython",
    "version": 3
   },
   "file_extension": ".py",
   "mimetype": "text/x-python",
   "name": "python",
   "nbconvert_exporter": "python",
   "pygments_lexer": "ipython3",
   "version": "3.7.1"
  }
 },
 "nbformat": 4,
 "nbformat_minor": 2
}
