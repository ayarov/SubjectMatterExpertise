{
 "cells": [
  {
   "cell_type": "code",
   "execution_count": 1,
   "metadata": {
    "collapsed": false
   },
   "outputs": [],
   "source": [
    "import re\n",
    "from urllib import request, parse\n",
    "from urllib.parse import urljoin\n",
    "from bs4 import BeautifulSoup"
   ]
  },
  {
   "cell_type": "code",
   "execution_count": null,
   "metadata": {
    "collapsed": false
   },
   "outputs": [],
   "source": [
    "# # dump_date = '20180820'\n",
    "# dump_url = r'https://dumps.wikimedia.org/enwiki/latest'\n",
    "# dump_html_url = urljoin(dump_url, dump_date)\n",
    "# print(dump_html_url)\n",
    "# print(urljoin(dump_html_url, 'a'))"
   ]
  },
  {
   "cell_type": "code",
   "execution_count": 3,
   "metadata": {
    "collapsed": false
   },
   "outputs": [],
   "source": [
    "dump_url = r'https://dumps.wikimedia.org/enwiki/latest'\n",
    "with request.urlopen(dump_url) as response:\n",
    "    soup = BeautifulSoup(response.read(), 'html.parser')"
   ]
  },
  {
   "cell_type": "code",
   "execution_count": 10,
   "metadata": {
    "collapsed": false
   },
   "outputs": [],
   "source": [
    "with open(r'D:\\data\\enwiki\\latest\\stub-meta-history.txt', mode='a') as f:\n",
    "    match = soup.find_all('a', {'href': re.compile(r'stub-meta-history')})\n",
    "    if len(match) > 0:\n",
    "        for m in match:\n",
    "            if str(m.getText()).endswith('gz-rss.xml'):\n",
    "                continue\n",
    "            f.write(parse.urljoin(dump_url + '/', m.getText()))"
   ]
  }
 ],
 "metadata": {
  "kernelspec": {
   "display_name": "Python 3",
   "language": "python",
   "name": "python3"
  },
  "language_info": {
   "codemirror_mode": {
    "name": "ipython",
    "version": 3
   },
   "file_extension": ".py",
   "mimetype": "text/x-python",
   "name": "python",
   "nbconvert_exporter": "python",
   "pygments_lexer": "ipython3",
   "version": "3.6.0"
  }
 },
 "nbformat": 4,
 "nbformat_minor": 2
}
