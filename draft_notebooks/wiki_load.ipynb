{
 "cells": [
  {
   "cell_type": "code",
   "execution_count": 1,
   "metadata": {},
   "outputs": [],
   "source": [
    "import os\n",
    "import json\n",
    "import pymongo\n",
    "import pandas as pd\n",
    "import dask.dataframe as dd\n",
    "from pymongo import InsertOne, DeleteMany\n",
    "from pymongo.errors import BulkWriteError\n",
    "from pymongo.collection import Collection"
   ]
  },
  {
   "cell_type": "code",
   "execution_count": 2,
   "metadata": {},
   "outputs": [],
   "source": [
    "mongo_port = 27017\n",
    "mongo_host = \"192.168.1.14\"\n",
    "database_name = \"enwiki\"\n",
    "collection_name = \"revisions\"\n",
    "\n",
    "client = pymongo.MongoClient(host=mongo_host, port=mongo_port)\n",
    "db = client.get_database(name=database_name)\n",
    "revisions_collection = db.get_collection(name=collection_name)"
   ]
  },
  {
   "cell_type": "code",
   "execution_count": 3,
   "metadata": {},
   "outputs": [],
   "source": [
    "def df_to_mongo(df: pd.DataFrame, collection: Collection, pk=None):\n",
    "    df_size = len(df)\n",
    "    total_size = 0\n",
    "    batch_size = 50000\n",
    "    requests = []\n",
    "    for index, row in df.iterrows():\n",
    "        total_size += 1\n",
    "        requests.append(InsertOne({c if pk!=c else '_id': row[c] for c in df.columns}))\n",
    "        \n",
    "        if total_size > 0 and (total_size % batch_size == 0):\n",
    "            print(f\"{total_size}/{df_size}\")\n",
    "            write_bulk(requests, collection)\n",
    "            requests = []\n",
    "    \n",
    "    if len(requests) > 0:\n",
    "        write_bulk(requests, collection)\n",
    "        print(f\"{total_size}/{df_size}\")\n",
    "\n",
    "def write_bulk(requests, collection):\n",
    "    try:\n",
    "        result = collection.bulk_write(requests)\n",
    "#         print('Total: {}\\tTotal inserted: {}'.format(len(requests), result.inserted_count))\n",
    "    except BulkWriteError as bwe:\n",
    "        print(bwe.details)\n",
    "    except Exception as err:\n",
    "        print(err)"
   ]
  },
  {
   "cell_type": "code",
   "execution_count": 4,
   "metadata": {},
   "outputs": [],
   "source": [
    "completed_files = []\n",
    "with open(r'../../../data/enwiki/latest/mongo_rev_files.txt', mode='r') as mrf:\n",
    "    line = mrf.readline()\n",
    "    completed_files = line.split(';')"
   ]
  },
  {
   "cell_type": "code",
   "execution_count": 6,
   "metadata": {},
   "outputs": [],
   "source": [
    "# chunksize = 50000\n",
    "# tmp_path = r'../../../data/enwiki/latest/enwiki-latest-stub-meta-history10.h5'\n",
    "# for chunk in pd.read_hdf(path_or_buf=tmp_path, key='enwiki', chunksize=chunksize):\n",
    "#     print(len(chunk))"
   ]
  },
  {
   "cell_type": "code",
   "execution_count": 5,
   "metadata": {},
   "outputs": [],
   "source": [
    "files = !ls ../../../data/enwiki/latest\n",
    "for file in files:\n",
    "    file = os.path.join('../../../data/enwiki/latest', file)\n",
    "    \n",
    "    if file in completed_files or file == r'../../../data/enwiki/latest/mongo_rev_files.txt':\n",
    "        continue\n",
    "    \n",
    "    print(f'Processing {file}')\n",
    "    \n",
    "    df = pd.read_hdf(file, key='enwiki')\n",
    "    df_to_mongo(df, revisions_collection, 'rev_id')\n",
    "    \n",
    "    del df\n",
    "    \n",
    "    with open(r'../../../data/enwiki/latest/mongo_rev_files.txt', mode='a') as mrf:\n",
    "        mrf.write(file + ';')"
   ]
  },
  {
   "cell_type": "code",
   "execution_count": 6,
   "metadata": {},
   "outputs": [
    {
     "name": "stdout",
     "output_type": "stream",
     "text": [
      "../../../data/enwiki/latest/enwiki-latest-stub-meta-history9.h5;../../../data/enwiki/latest/enwiki-latest-stub-meta-history10.h5;../../../data/enwiki/latest/enwiki-latest-stub-meta-history11.h5;../../../data/enwiki/latest/enwiki-latest-stub-meta-history12.h5;../../../data/enwiki/latest/enwiki-latest-stub-meta-history13.h5;../../../data/enwiki/latest/enwiki-latest-stub-meta-history14.h5;../../../data/enwiki/latest/enwiki-latest-stub-meta-history15.h5;../../../data/enwiki/latest/enwiki-latest-stub-meta-history16.h5;../../../data/enwiki/latest/enwiki-latest-stub-meta-history17.h5;../../../data/enwiki/latest/enwiki-latest-stub-meta-history18.h5;../../../data/enwiki/latest/enwiki-latest-stub-meta-history19.h5;../../../data/enwiki/latest/enwiki-latest-stub-meta-history1.h5;../../../data/enwiki/latest/enwiki-latest-stub-meta-history20.h5;../../../data/enwiki/latest/enwiki-latest-stub-meta-history21.h5;../../../data/enwiki/latest/enwiki-latest-stub-meta-history22.h5;../../../data/enwiki/latest/enwiki-latest-stub-meta-history23.h5;../../../data/enwiki/latest/enwiki-latest-stub-meta-history24.h5;../../../data/enwiki/latest/enwiki-latest-stub-meta-history25.h5;../../../data/enwiki/latest/enwiki-latest-stub-meta-history26.h5;../../../data/enwiki/latest/enwiki-latest-stub-meta-history27.h5;../../../data/enwiki/latest/enwiki-latest-stub-meta-history27_p1.h5;../../../data/enwiki/latest/enwiki-latest-stub-meta-history27_p2.h5;../../../data/enwiki/latest/enwiki-latest-stub-meta-history27_p3.h5;../../../data/enwiki/latest/enwiki-latest-stub-meta-history27_p4.h5;../../../data/enwiki/latest/enwiki-latest-stub-meta-history27_p5.h5;../../../data/enwiki/latest/enwiki-latest-stub-meta-history27_p6.h5;../../../data/enwiki/latest/enwiki-latest-stub-meta-history27_p7.h5;../../../data/enwiki/latest/enwiki-latest-stub-meta-history27_p8.h5;../../../data/enwiki/latest/enwiki-latest-stub-meta-history2.h5;../../../data/enwiki/latest/enwiki-latest-stub-meta-history3.h5;../../../data/enwiki/latest/enwiki-latest-stub-meta-history4.h5;../../../data/enwiki/latest/enwiki-latest-stub-meta-history5.h5;../../../data/enwiki/latest/enwiki-latest-stub-meta-history6.h5;../../../data/enwiki/latest/enwiki-latest-stub-meta-history7.h5;../../../data/enwiki/latest/enwiki-latest-stub-meta-history8.h5;"
     ]
    }
   ],
   "source": [
    "!cat ../../../data/enwiki/latest/mo"
   ]
  }
 ],
 "metadata": {
  "kernelspec": {
   "display_name": "Python 3",
   "language": "python",
   "name": "python3"
  },
  "language_info": {
   "codemirror_mode": {
    "name": "ipython",
    "version": 3
   },
   "file_extension": ".py",
   "mimetype": "text/x-python",
   "name": "python",
   "nbconvert_exporter": "python",
   "pygments_lexer": "ipython3",
   "version": "3.7.1"
  }
 },
 "nbformat": 4,
 "nbformat_minor": 2
}
