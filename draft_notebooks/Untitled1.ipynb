{
 "cells": [
  {
   "cell_type": "code",
   "execution_count": 6,
   "metadata": {},
   "outputs": [
    {
     "name": "stdout",
     "output_type": "stream",
     "text": [
      "-- MySQL dump 10.16  Distrib 10.1.26-MariaDB, for debian-linux-gnu (x86_64)\n",
      "\n",
      "--\n",
      "\n",
      "-- Host: 10.64.48.13    Database: enwiki\n",
      "\n",
      "-- ------------------------------------------------------\n",
      "\n",
      "-- Server version\t10.1.38-MariaDB\n",
      "\n",
      "\n",
      "\n",
      "/*!40101 SET @OLD_CHARACTER_SET_CLIENT=@@CHARACTER_SET_CLIENT */;\n",
      "\n",
      "/*!40101 SET @OLD_CHARACTER_SET_RESULTS=@@CHARACTER_SET_RESULTS */;\n",
      "\n",
      "/*!40101 SET @OLD_COLLATION_CONNECTION=@@COLLATION_CONNECTION */;\n",
      "\n",
      "/*!40101 SET NAMES utf8mb4 */;\n",
      "\n",
      "/*!40103 SET @OLD_TIME_ZONE=@@TIME_ZONE */;\n",
      "\n",
      "/*!40103 SET TIME_ZONE='+00:00' */;\n",
      "\n",
      "/*!40014 SET @OLD_UNIQUE_CHECKS=@@UNIQUE_CHECKS, UNIQUE_CHECKS=0 */;\n",
      "\n",
      "/*!40014 SET @OLD_FOREIGN_KEY_CHECKS=@@FOREIGN_KEY_CHECKS, FOREIGN_KEY_CHECKS=0 */;\n",
      "\n",
      "/*!40101 SET @OLD_SQL_MODE=@@SQL_MODE, SQL_MODE='NO_AUTO_VALUE_ON_ZERO' */;\n",
      "\n",
      "/*!40111 SET @OLD_SQL_NOTES=@@SQL_NOTES, SQL_NOTES=0 */;\n",
      "\n",
      "\n",
      "\n",
      "--\n",
      "\n",
      "-- Table structure for table `categorylinks`\n",
      "\n",
      "--\n",
      "\n",
      "\n",
      "\n",
      "DROP TABLE IF EXISTS `categorylinks`;\n",
      "\n",
      "/*!40101 SET @saved_cs_client     = @@character_set_client */;\n",
      "\n",
      "/*!40101 SET character_set_client = utf8 */;\n",
      "\n",
      "CREATE TABLE `categorylinks` (\n",
      "\n",
      "  `cl_from` int(8) unsigned NOT NULL DEFAULT '0',\n",
      "\n",
      "  `cl_to` varbinary(255) NOT NULL DEFAULT '',\n",
      "\n",
      "  `cl_sortkey` varbinary(230) NOT NULL DEFAULT '',\n",
      "\n",
      "  `cl_timestamp` timestamp NOT NULL DEFAULT CURRENT_TIMESTAMP ON UPDATE CURRENT_TIMESTAMP,\n",
      "\n",
      "  `cl_sortkey_prefix` varbinary(255) NOT NULL DEFAULT '',\n",
      "\n"
     ]
    }
   ],
   "source": [
    "lines = []\n",
    "with open(r'../../../Downloads/enwiki-latest-categorylinks.sql', encoding='ISO-8859-1') as f:\n",
    "    count = 0\n",
    "    while count < 30:\n",
    "        line = f.readline()\n",
    "        lines.append(line)\n",
    "        count += 1\n",
    "\n",
    "for line in lines:\n",
    "    print(line)"
   ]
  },
  {
   "cell_type": "code",
   "execution_count": 2,
   "metadata": {},
   "outputs": [],
   "source": [
    "from nltk.parse import CoreNLPParser\n",
    "\n",
    "# Lexical Parser\n",
    "parser = CoreNLPParser(url='http://localhost:9000')"
   ]
  },
  {
   "cell_type": "code",
   "execution_count": null,
   "metadata": {},
   "outputs": [],
   "source": [
    "# Parse tokenized text.\n",
    "list(parser.parse('What is the airspeed of an unladen swallow ?'.split()))\n",
    "# [Tree('ROOT', [Tree('SBARQ', [Tree('WHNP', [Tree('WP', ['What'])]), Tree('SQ', [Tree('VBZ', ['is']), Tree('NP', [Tree('NP', [Tree('DT', ['the']), Tree('NN', ['airspeed'])]), Tree('PP', [Tree('IN', ['of']), Tree('NP', [Tree('DT', ['an']), Tree('JJ', ['unladen'])])]), Tree('S', [Tree('VP', [Tree('VB', ['swallow'])])])])]), Tree('.', ['?'])])])]"
   ]
  },
  {
   "cell_type": "code",
   "execution_count": null,
   "metadata": {},
   "outputs": [],
   "source": [
    "# Parse raw string.\n",
    "list(parser.raw_parse('What is the airspeed of an unladen swallow ?'))\n",
    "# [Tree('ROOT', [Tree('SBARQ', [Tree('WHNP', [Tree('WP', ['What'])]), Tree('SQ', [Tree('VBZ', ['is']), Tree('NP', [Tree('NP', [Tree('DT', ['the']), Tree('NN', ['airspeed'])]), Tree('PP', [Tree('IN', ['of']), Tree('NP', [Tree('DT', ['an']), Tree('JJ', ['unladen'])])]), Tree('S', [Tree('VP', [Tree('VB', ['swallow'])])])])]), Tree('.', ['?'])])])]"
   ]
  },
  {
   "cell_type": "code",
   "execution_count": null,
   "metadata": {},
   "outputs": [],
   "source": [
    "# Neural Dependency Parser\n",
    "from nltk.parse.corenlp import CoreNLPDependencyParser\n",
    "dep_parser = CoreNLPDependencyParser(url='http://localhost:9000')\n",
    "parses = dep_parser.parse('What is the airspeed of an unladen swallow ?'.split())\n",
    "[[(governor, dep, dependent) for governor, dep, dependent in parse.triples()] for parse in parses]\n",
    "# [[(('What', 'WP'), 'cop', ('is', 'VBZ')), (('What', 'WP'), 'nsubj', ('airspeed', 'NN')), (('airspeed', 'NN'), 'det', ('the', 'DT')), (('airspeed', 'NN'), 'nmod', ('swallow', 'VB')), (('swallow', 'VB'), 'case', ('of', 'IN')), (('swallow', 'VB'), 'det', ('an', 'DT')), (('swallow', 'VB'), 'amod', ('unladen', 'JJ')), (('What', 'WP'), 'punct', ('?', '.'))]]"
   ]
  },
  {
   "cell_type": "code",
   "execution_count": 6,
   "metadata": {},
   "outputs": [
    {
     "name": "stdout",
     "output_type": "stream",
     "text": [
      "['What', 'is', 'the', 'airspeed', 'of', 'an', 'unladen', 'swallow', '?']\n",
      "CPU times: user 3.74 ms, sys: 235 µs, total: 3.98 ms\n",
      "Wall time: 2.73 s\n"
     ]
    }
   ],
   "source": [
    "%%time\n",
    "\n",
    "# Tokenizer\n",
    "parser = CoreNLPParser(url='http://localhost:9000')\n",
    "print(list(parser.tokenize('What is the airspeed of an unladen swallow?')))\n",
    "# ['What', 'is', 'the', 'airspeed', 'of', 'an', 'unladen', 'swallow', '?']"
   ]
  },
  {
   "cell_type": "code",
   "execution_count": 7,
   "metadata": {},
   "outputs": [
    {
     "name": "stdout",
     "output_type": "stream",
     "text": [
      "[('What', 'WP'), ('is', 'VBZ'), ('the', 'DT'), ('airspeed', 'NN'), ('of', 'IN'), ('an', 'DT'), ('unladen', 'JJ'), ('swallow', 'VB'), ('?', '.')]\n",
      "CPU times: user 4.32 ms, sys: 398 µs, total: 4.71 ms\n",
      "Wall time: 23.7 ms\n"
     ]
    }
   ],
   "source": [
    "%%time\n",
    "\n",
    "# POS Tagger\n",
    "pos_tagger = CoreNLPParser(url='http://localhost:9000', tagtype='pos')\n",
    "print(list(pos_tagger.tag('What is the airspeed of an unladen swallow ?'.split())))\n",
    "# [('What', 'WP'), ('is', 'VBZ'), ('the', 'DT'), ('airspeed', 'NN'), ('of', 'IN'), ('an', 'DT'), ('unladen', 'JJ'), ('swallow', 'VB'), ('?', '.')]"
   ]
  },
  {
   "cell_type": "code",
   "execution_count": null,
   "metadata": {},
   "outputs": [],
   "source": [
    "# NER Tagger\n",
    "ner_tagger = CoreNLPParser(url='http://localhost:9000', tagtype='ner')\n",
    "list(ner_tagger.tag(('Rami Eid is studying at Stony Brook University in NY'.split())))\n",
    "# [('Rami', 'PERSON'), ('Eid', 'PERSON'), ('is', 'O'), ('studying', 'O'), ('at', 'O'), ('Stony', 'ORGANIZATION'), ('Brook', 'ORGANIZATION'), ('University', 'ORGANIZATION'), ('in', 'O'), ('NY', 'STATE_OR_PROVINCE')]"
   ]
  }
 ],
 "metadata": {
  "kernelspec": {
   "display_name": "Python 3",
   "language": "python",
   "name": "python3"
  },
  "language_info": {
   "codemirror_mode": {
    "name": "ipython",
    "version": 3
   },
   "file_extension": ".py",
   "mimetype": "text/x-python",
   "name": "python",
   "nbconvert_exporter": "python",
   "pygments_lexer": "ipython3",
   "version": "3.7.1"
  }
 },
 "nbformat": 4,
 "nbformat_minor": 2
}
