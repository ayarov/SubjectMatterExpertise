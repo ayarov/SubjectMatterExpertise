{
 "cells": [
  {
   "cell_type": "code",
   "execution_count": 1,
   "metadata": {
    "collapsed": true
   },
   "outputs": [],
   "source": [
    "from scipy import stats\n",
    "import pandas as pd\n",
    "import numpy as np"
   ]
  },
  {
   "cell_type": "markdown",
   "metadata": {},
   "source": [
    "## Train data analysis"
   ]
  },
  {
   "cell_type": "code",
   "execution_count": 2,
   "metadata": {},
   "outputs": [
    {
     "data": {
      "text/plain": [
       "(1020, 59)"
      ]
     },
     "execution_count": 2,
     "metadata": {},
     "output_type": "execute_result"
    }
   ],
   "source": [
    "df = pd.read_csv('data/new_train_data.csv', header=0)\n",
    "df.shape"
   ]
  },
  {
   "cell_type": "code",
   "execution_count": 3,
   "metadata": {},
   "outputs": [
    {
     "name": "stdout",
     "output_type": "stream",
     "text": [
      "experts: 506\n",
      "non-experts: 514\n"
     ]
    }
   ],
   "source": [
    "print('experts: {}'.format(len(df[df.label == 1].drop_duplicates(['user', 'page_id']))))\n",
    "print('non-experts: {}'.format(len(df[df.label != 1].drop_duplicates(['user', 'page_id']))))"
   ]
  },
  {
   "cell_type": "code",
   "execution_count": 4,
   "metadata": {},
   "outputs": [
    {
     "name": "stdout",
     "output_type": "stream",
     "text": [
      "['Education' 'Health' 'Science' 'Medicine' 'Humans' 'Language' 'Concepts'\n",
      " 'Mathematics' 'Culture' 'Geography' 'Humanities' nan 'People'\n",
      " 'Agriculture' 'Law' 'Environment' 'Chronology' 'Nature' 'Arts' 'Politics'\n",
      " 'Life' 'Business' 'Technology' 'Society' 'History']\n"
     ]
    }
   ],
   "source": [
    "print(df['category'].unique())\n",
    "df['category'] = df.apply(lambda x: 'Nature' if x.page_id == 509078 else x.category, axis=1)\n",
    "df['category'] = df.apply(lambda x: 'Mathematics' if x.page_id == 22170 else x.category, axis=1)\n",
    "df['category'] = df.apply(lambda x: 'Medicine' if x.page_id == 8325231 else x.category, axis=1)\n",
    "df['category'] = df.apply(lambda x: 'Concepts' if x.page_id == 1453 else x.category, axis=1)"
   ]
  },
  {
   "cell_type": "code",
   "execution_count": 5,
   "metadata": {},
   "outputs": [
    {
     "data": {
      "text/html": [
       "<div>\n",
       "<style scoped>\n",
       "    .dataframe tbody tr th:only-of-type {\n",
       "        vertical-align: middle;\n",
       "    }\n",
       "\n",
       "    .dataframe tbody tr th {\n",
       "        vertical-align: top;\n",
       "    }\n",
       "\n",
       "    .dataframe thead th {\n",
       "        text-align: right;\n",
       "    }\n",
       "</style>\n",
       "<table border=\"1\" class=\"dataframe\">\n",
       "  <thead>\n",
       "    <tr style=\"text-align: right;\">\n",
       "      <th></th>\n",
       "      <th>page_id</th>\n",
       "      <th>page</th>\n",
       "      <th>category</th>\n",
       "      <th>user</th>\n",
       "      <th>page_edits</th>\n",
       "      <th>page_edits_ratio</th>\n",
       "      <th>page_talk_edits</th>\n",
       "      <th>edit_period_q1</th>\n",
       "      <th>edit_period_q2</th>\n",
       "      <th>edit_period_q3</th>\n",
       "      <th>...</th>\n",
       "      <th>edit_type_d</th>\n",
       "      <th>edit_type_e</th>\n",
       "      <th>edit_type_f</th>\n",
       "      <th>edit_type_g</th>\n",
       "      <th>edit_type_h</th>\n",
       "      <th>edit_type_i</th>\n",
       "      <th>edit_type_j</th>\n",
       "      <th>edit_type_k</th>\n",
       "      <th>edit_type_l</th>\n",
       "      <th>edit_type_m</th>\n",
       "    </tr>\n",
       "  </thead>\n",
       "  <tbody>\n",
       "    <tr>\n",
       "      <th>0</th>\n",
       "      <td>140968</td>\n",
       "      <td>Rotavirus</td>\n",
       "      <td>Education</td>\n",
       "      <td>Ben Moore</td>\n",
       "      <td>2.0</td>\n",
       "      <td>0.001047</td>\n",
       "      <td>0.0</td>\n",
       "      <td>0.0</td>\n",
       "      <td>0.0</td>\n",
       "      <td>0.0</td>\n",
       "      <td>...</td>\n",
       "      <td>0.0</td>\n",
       "      <td>0.0</td>\n",
       "      <td>1.000000</td>\n",
       "      <td>0.000000</td>\n",
       "      <td>0.0</td>\n",
       "      <td>0.0</td>\n",
       "      <td>0.0</td>\n",
       "      <td>0.0</td>\n",
       "      <td>0.0</td>\n",
       "      <td>0.0</td>\n",
       "    </tr>\n",
       "    <tr>\n",
       "      <th>1</th>\n",
       "      <td>140968</td>\n",
       "      <td>Rotavirus</td>\n",
       "      <td>Education</td>\n",
       "      <td>Magnus Manske</td>\n",
       "      <td>1.0</td>\n",
       "      <td>0.000523</td>\n",
       "      <td>0.0</td>\n",
       "      <td>1.0</td>\n",
       "      <td>0.0</td>\n",
       "      <td>0.0</td>\n",
       "      <td>...</td>\n",
       "      <td>0.0</td>\n",
       "      <td>0.0</td>\n",
       "      <td>0.000000</td>\n",
       "      <td>0.000000</td>\n",
       "      <td>0.0</td>\n",
       "      <td>0.0</td>\n",
       "      <td>0.0</td>\n",
       "      <td>0.0</td>\n",
       "      <td>0.0</td>\n",
       "      <td>0.0</td>\n",
       "    </tr>\n",
       "    <tr>\n",
       "      <th>2</th>\n",
       "      <td>140968</td>\n",
       "      <td>Rotavirus</td>\n",
       "      <td>Education</td>\n",
       "      <td>Wilke</td>\n",
       "      <td>3.0</td>\n",
       "      <td>0.001570</td>\n",
       "      <td>0.0</td>\n",
       "      <td>1.0</td>\n",
       "      <td>0.0</td>\n",
       "      <td>0.0</td>\n",
       "      <td>...</td>\n",
       "      <td>0.0</td>\n",
       "      <td>0.0</td>\n",
       "      <td>0.666667</td>\n",
       "      <td>0.333333</td>\n",
       "      <td>0.0</td>\n",
       "      <td>0.0</td>\n",
       "      <td>0.0</td>\n",
       "      <td>0.0</td>\n",
       "      <td>0.0</td>\n",
       "      <td>0.0</td>\n",
       "    </tr>\n",
       "    <tr>\n",
       "      <th>3</th>\n",
       "      <td>140968</td>\n",
       "      <td>Rotavirus</td>\n",
       "      <td>Education</td>\n",
       "      <td>PeterJohnson</td>\n",
       "      <td>1.0</td>\n",
       "      <td>0.000523</td>\n",
       "      <td>0.0</td>\n",
       "      <td>1.0</td>\n",
       "      <td>0.0</td>\n",
       "      <td>0.0</td>\n",
       "      <td>...</td>\n",
       "      <td>0.0</td>\n",
       "      <td>0.0</td>\n",
       "      <td>0.000000</td>\n",
       "      <td>0.000000</td>\n",
       "      <td>0.0</td>\n",
       "      <td>0.0</td>\n",
       "      <td>0.0</td>\n",
       "      <td>0.0</td>\n",
       "      <td>0.0</td>\n",
       "      <td>0.0</td>\n",
       "    </tr>\n",
       "    <tr>\n",
       "      <th>4</th>\n",
       "      <td>140968</td>\n",
       "      <td>Rotavirus</td>\n",
       "      <td>Education</td>\n",
       "      <td>Mikael Haggstrom</td>\n",
       "      <td>1.0</td>\n",
       "      <td>0.000523</td>\n",
       "      <td>0.0</td>\n",
       "      <td>0.0</td>\n",
       "      <td>1.0</td>\n",
       "      <td>0.0</td>\n",
       "      <td>...</td>\n",
       "      <td>0.0</td>\n",
       "      <td>0.0</td>\n",
       "      <td>0.000000</td>\n",
       "      <td>0.000000</td>\n",
       "      <td>0.0</td>\n",
       "      <td>0.0</td>\n",
       "      <td>0.0</td>\n",
       "      <td>0.0</td>\n",
       "      <td>0.0</td>\n",
       "      <td>0.0</td>\n",
       "    </tr>\n",
       "  </tbody>\n",
       "</table>\n",
       "<p>5 rows × 58 columns</p>\n",
       "</div>"
      ],
      "text/plain": [
       "   page_id       page   category              user  page_edits  \\\n",
       "0   140968  Rotavirus  Education         Ben Moore         2.0   \n",
       "1   140968  Rotavirus  Education     Magnus Manske         1.0   \n",
       "2   140968  Rotavirus  Education             Wilke         3.0   \n",
       "3   140968  Rotavirus  Education      PeterJohnson         1.0   \n",
       "4   140968  Rotavirus  Education  Mikael Haggstrom         1.0   \n",
       "\n",
       "   page_edits_ratio  page_talk_edits  edit_period_q1  edit_period_q2  \\\n",
       "0          0.001047              0.0             0.0             0.0   \n",
       "1          0.000523              0.0             1.0             0.0   \n",
       "2          0.001570              0.0             1.0             0.0   \n",
       "3          0.000523              0.0             1.0             0.0   \n",
       "4          0.000523              0.0             0.0             1.0   \n",
       "\n",
       "   edit_period_q3     ...       edit_type_d  edit_type_e  edit_type_f  \\\n",
       "0             0.0     ...               0.0          0.0     1.000000   \n",
       "1             0.0     ...               0.0          0.0     0.000000   \n",
       "2             0.0     ...               0.0          0.0     0.666667   \n",
       "3             0.0     ...               0.0          0.0     0.000000   \n",
       "4             0.0     ...               0.0          0.0     0.000000   \n",
       "\n",
       "   edit_type_g  edit_type_h  edit_type_i  edit_type_j  edit_type_k  \\\n",
       "0     0.000000          0.0          0.0          0.0          0.0   \n",
       "1     0.000000          0.0          0.0          0.0          0.0   \n",
       "2     0.333333          0.0          0.0          0.0          0.0   \n",
       "3     0.000000          0.0          0.0          0.0          0.0   \n",
       "4     0.000000          0.0          0.0          0.0          0.0   \n",
       "\n",
       "   edit_type_l  edit_type_m  \n",
       "0          0.0          0.0  \n",
       "1          0.0          0.0  \n",
       "2          0.0          0.0  \n",
       "3          0.0          0.0  \n",
       "4          0.0          0.0  \n",
       "\n",
       "[5 rows x 58 columns]"
      ]
     },
     "execution_count": 5,
     "metadata": {},
     "output_type": "execute_result"
    }
   ],
   "source": [
    "df.drop(['edit_type_exists'], axis=1, inplace=True)\n",
    "df.head()"
   ]
  },
  {
   "cell_type": "code",
   "execution_count": 6,
   "metadata": {},
   "outputs": [
    {
     "name": "stdout",
     "output_type": "stream",
     "text": [
      "['edit_type_a', 'edit_type_b', 'edit_type_c', 'edit_type_d', 'edit_type_e', 'edit_type_f', 'edit_type_g', 'edit_type_h', 'edit_type_i', 'edit_type_j', 'edit_type_k', 'edit_type_l', 'edit_type_m']\n"
     ]
    }
   ],
   "source": [
    "edit_types = [col for col in df.columns if str(col).startswith('edit_type')]\n",
    "print(edit_types)"
   ]
  },
  {
   "cell_type": "code",
   "execution_count": 10,
   "metadata": {},
   "outputs": [],
   "source": [
    "# df.dropna(subset=edit_types, inplace=True)\n",
    "# for edit_type in edit_types:\n",
    "#     df[edit_type].fillna(value=-1, inplace=True)  \n",
    "# df.fillna(axis=1, inplace=True, value=-1)"
   ]
  },
  {
   "cell_type": "code",
   "execution_count": 7,
   "metadata": {
    "collapsed": true
   },
   "outputs": [],
   "source": [
    "category_cols = ['category', 'pages', 'experts', 'non-experts']\n",
    "category_rows = []\n",
    "grouped = df.groupby(by='category')\n",
    "for name, g in grouped:\n",
    "    n_pages = len(g['page_id'].unique())\n",
    "    n_experts = len(g[g['label']==1])\n",
    "    n_non_experts = len(g[g['label']!=1])\n",
    "    category_rows.append([name, n_pages, n_experts, n_non_experts])\n",
    "\n",
    "category_df = pd.DataFrame(category_rows, columns=category_cols)\n",
    "totals = [['Total', np.sum(category_df['pages']), np.sum(category_df['experts']), np.sum(category_df['non-experts'])]]\n",
    "\n",
    "category_totals_df = pd.DataFrame(totals, columns=category_cols)\n",
    "category_df = pd.concat([category_df,category_totals_df])\n",
    "category_df.head(30)\n",
    "category_df.to_csv(r'data/new_train_data_stats.csv', index=False)"
   ]
  },
  {
   "cell_type": "code",
   "execution_count": 8,
   "metadata": {
    "collapsed": true
   },
   "outputs": [],
   "source": [
    "def get_ttest_stats(feature):\n",
    "    expert_persistence = df[df.label == 1][feature]\n",
    "    non_expert_persistence = df[df.label == 0][feature]\n",
    "\n",
    "    ttest_result = stats.ttest_ind(expert_persistence, non_expert_persistence, equal_var = False)\n",
    "#     print('parameter: %s\\tstatistic: %2f\\tp-value: %2f' % (feature, ttest_result.statistic, ttest_result.pvalue))  \n",
    "    return [feature, ttest_result.statistic, ttest_result.pvalue]"
   ]
  },
  {
   "cell_type": "code",
   "execution_count": 13,
   "metadata": {},
   "outputs": [],
   "source": [
    "df = df[~df.edit_type_a.isnull()]"
   ]
  },
  {
   "cell_type": "code",
   "execution_count": 14,
   "metadata": {},
   "outputs": [
    {
     "name": "stdout",
     "output_type": "stream",
     "text": [
      "                         feature  t_statistic       p_value\n",
      "0                     page_edits     3.452627  6.014966e-04\n",
      "1               page_edits_ratio     4.600974  5.262375e-06\n",
      "2                page_talk_edits     2.885589  4.077646e-03\n",
      "3                 edit_period_q1    -0.863435  3.881092e-01\n",
      "4                 edit_period_q2     0.605062  5.452779e-01\n",
      "5                 edit_period_q3    -0.822484  4.110011e-01\n",
      "6                 edit_period_q4    -1.756166  7.937350e-02\n",
      "7             mean_edit_interval     0.631569  5.278167e-01\n",
      "8                 mean_edit_size    -2.267210  2.359464e-02\n",
      "9                         tenure    -0.046534  9.628944e-01\n",
      "10                        gender    -2.844648  4.539838e-03\n",
      "11                 ns0_edit_dist     0.552434  5.807775e-01\n",
      "12                 ns1_edit_dist     4.580663  5.230167e-06\n",
      "13                 ns2_edit_dist     2.328700  2.010487e-02\n",
      "14                 ns3_edit_dist    -7.881006  1.025681e-14\n",
      "15                 ns4_edit_dist    -0.066036  9.473628e-01\n",
      "16                 ns5_edit_dist     4.536866  6.417407e-06\n",
      "17                 ns6_edit_dist     0.392337  6.949355e-01\n",
      "18                 ns7_edit_dist     0.247297  8.047435e-01\n",
      "19                 ns8_edit_dist    -1.829132  6.796991e-02\n",
      "20                 ns9_edit_dist    -1.896813  5.828292e-02\n",
      "21                ns10_edit_dist    -0.415129  6.781387e-01\n",
      "22                ns11_edit_dist    -4.696194  3.375401e-06\n",
      "23                ns12_edit_dist    -0.767958  4.426985e-01\n",
      "24                ns13_edit_dist    -0.205571  8.371773e-01\n",
      "25                ns14_edit_dist     3.837803  1.350117e-04\n",
      "26                ns15_edit_dist     1.519969  1.288915e-01\n",
      "27                page_edit_dist    -8.817268  5.531607e-18\n",
      "28            total_edited_pages    -9.185085  2.724148e-19\n",
      "29                 links_overlap     7.065420  4.499222e-12\n",
      "30            categories_overlap     2.938765  3.376040e-03\n",
      "31              title_similarity     4.552411  6.155184e-06\n",
      "32            summary_similarity     7.863329  1.189416e-14\n",
      "33               avg_persistence     4.008112  6.626241e-05\n",
      "34           content_token_count     2.416876  1.593287e-02\n",
      "35  content_token_edit_count_avg     1.046599  2.956238e-01\n",
      "36   content_token_vs_stop_words    -0.110058  9.124031e-01\n",
      "37        content_token_vs_token     1.111006  2.670218e-01\n",
      "38       contribution_similarity     0.203076  8.391181e-01\n",
      "39            persistence_exists          NaN           NaN\n",
      "40                   edit_type_a     1.354918  1.757794e-01\n",
      "41                   edit_type_b     4.984956  7.333258e-07\n",
      "42                   edit_type_c     6.512885  1.178707e-10\n",
      "43                   edit_type_d     1.277630  2.019887e-01\n",
      "44                   edit_type_e     0.145860  8.840622e-01\n",
      "45                   edit_type_f     0.328188  7.428397e-01\n",
      "46                   edit_type_g     3.601517  3.350318e-04\n",
      "47                   edit_type_h     0.728765  4.663227e-01\n",
      "48                   edit_type_i     0.875326  3.816334e-01\n",
      "49                   edit_type_j    -9.683357  4.650682e-21\n",
      "50                   edit_type_k    -0.199767  8.417047e-01\n",
      "51                   edit_type_l     0.586764  5.575005e-01\n",
      "52                   edit_type_m     1.496131  1.349737e-01\n"
     ]
    }
   ],
   "source": [
    "drop_list = ['page_id', \n",
    "            'page', \n",
    "            'category', \n",
    "            'user', \n",
    "            'label']\n",
    "\n",
    "ndf = df.drop(drop_list, axis=1)\n",
    "\n",
    "columns = ['feature', 't_statistic', 'p_value']\n",
    "ttest_rows = []\n",
    "for col in ndf.columns:\n",
    "    ttest_rows.append(get_ttest_stats(col))\n",
    "\n",
    "ttest_df = pd.DataFrame(ttest_rows, columns=columns)\n",
    "ttest_df.head()\n",
    "ttest_df.to_csv(r'data/new_features_ttest.csv', index=False)\n",
    "print(ttest_df)"
   ]
  },
  {
   "cell_type": "code",
   "execution_count": 15,
   "metadata": {},
   "outputs": [
    {
     "name": "stdout",
     "output_type": "stream",
     "text": [
      "                                              Feature      SME mean  \\\n",
      "0   Wikipedia activity, Main Namespace – summary s...  1.430924e-02   \n",
      "1   Wikipedia activity, Main Namespace- hyperlink ...  1.616010e-02   \n",
      "2   Focal page activity – ratio of edits out of to...  1.024411e-02   \n",
      "3   Wikipedia activity, Main Namespace –title simi...  9.155730e-04   \n",
      "4   Focal page activity - average persistence of c...  1.736422e+07   \n",
      "5     Focal page activity - total 'Wiki MarkUp' edits  5.938392e-01   \n",
      "6                   Focal page activity - total edits  1.241189e+01   \n",
      "7   Focal page activity - total 'Reorganize Conten...  6.842666e-02   \n",
      "8     Focal page activity - total 'Add Content' edits  3.222774e-01   \n",
      "9   Wikipedia activity - total edits in all namesp...  1.594016e+03   \n",
      "10  Wikipedia activity, Main Namespace – entropy o...  5.816257e+00   \n",
      "11  Focal page activity - total 'Fix Vandalism' edits  1.136749e-01   \n",
      "\n",
      "    \"Unknown\" mean  \n",
      "0     5.805537e-03  \n",
      "1     6.224730e-03  \n",
      "2     2.300395e-03  \n",
      "3     2.867162e-04  \n",
      "4     9.828309e+06  \n",
      "5     4.162323e-01  \n",
      "6     3.225352e+00  \n",
      "7     2.667377e-02  \n",
      "8     2.033257e-01  \n",
      "9     2.633149e+03  \n",
      "10    6.729115e+00  \n",
      "11    3.431552e-01  \n"
     ]
    }
   ],
   "source": [
    "features = {'summary_similarity': 'Wikipedia activity, Main Namespace – summary similarity',\n",
    "            'links_overlap': 'Wikipedia activity, Main Namespace- hyperlink overlap',\n",
    "            'page_edits_ratio': 'Focal page activity – ratio of edits out of total edits',\n",
    "            'title_similarity': 'Wikipedia activity, Main Namespace –title similarity',\n",
    "            'avg_persistence': 'Focal page activity - average persistence of contributed tokens',\n",
    "            'edit_type_c': 'Focal page activity - total \\'Wiki MarkUp\\' edits',\n",
    "            'page_edits': 'Focal page activity - total edits',\n",
    "            'edit_type_g': 'Focal page activity - total \\'Reorganize Content\\' edits',\n",
    "            'edit_type_b': 'Focal page activity - total \\'Add Content\\' edits',\n",
    "            'total_edited_pages': 'Wikipedia activity - total edits in all namespaces',\n",
    "            'page_edit_dist': 'Wikipedia activity, Main Namespace – entropy of edit quantity',\n",
    "            'edit_type_j': 'Focal page activity - total \\'Fix Vandalism\\' edits'}\n",
    "\n",
    "means_cols = ['Feature', 'SME mean', '\"Unknown\" mean']\n",
    "means = []\n",
    "for key in features.keys():\n",
    "    descr = features[key]\n",
    "    sme_mean = df[df.label==1][key].mean()\n",
    "    unknown_mean = df[df.label!=1][key].mean()\n",
    "    means.append([descr, sme_mean, unknown_mean])\n",
    "\n",
    "means_df = pd.DataFrame(means, columns=means_cols)\n",
    "means_df.to_csv(r'data/new_features_means.csv', index=False)\n",
    "print(means_df)"
   ]
  },
  {
   "cell_type": "code",
   "execution_count": 16,
   "metadata": {},
   "outputs": [
    {
     "name": "stdout",
     "output_type": "stream",
     "text": [
      "['page_edits', 'page_edits_ratio', 'page_talk_edits', 'edit_period_q1', 'edit_period_q2', 'edit_period_q3', 'edit_period_q4', 'mean_edit_interval', 'mean_edit_size', 'tenure', 'gender', 'ns0_edit_dist', 'ns1_edit_dist', 'ns2_edit_dist', 'ns3_edit_dist', 'ns4_edit_dist', 'ns5_edit_dist', 'ns6_edit_dist', 'ns7_edit_dist', 'ns8_edit_dist', 'ns9_edit_dist', 'ns10_edit_dist', 'ns11_edit_dist', 'ns12_edit_dist', 'ns13_edit_dist', 'ns14_edit_dist', 'ns15_edit_dist', 'page_edit_dist', 'total_edited_pages', 'links_overlap', 'categories_overlap', 'title_similarity', 'summary_similarity', 'avg_persistence', 'content_token_count', 'content_token_edit_count_avg', 'content_token_vs_stop_words', 'content_token_vs_token', 'contribution_similarity', 'persistence_exists', 'edit_type_a', 'edit_type_b', 'edit_type_c', 'edit_type_d', 'edit_type_e', 'edit_type_f', 'edit_type_g', 'edit_type_h', 'edit_type_i', 'edit_type_j', 'edit_type_k', 'edit_type_l', 'edit_type_m']\n"
     ]
    }
   ],
   "source": [
    "features = df.columns.tolist()\n",
    "for drop_col in drop_list:\n",
    "    features.remove(drop_col)\n",
    "print(features)"
   ]
  },
  {
   "cell_type": "code",
   "execution_count": 17,
   "metadata": {},
   "outputs": [
    {
     "name": "stdout",
     "output_type": "stream",
     "text": [
      "                  sme_count   sme_mean    sme_std   sme_min   sme_25%  \\\n",
      "feature                                                                 \n",
      "page_edits            488.0  12.411885  58.154757  1.000000  1.000000   \n",
      "page_edits_ratio      488.0   0.010244   0.037284  0.000057  0.000455   \n",
      "page_talk_edits       488.0   3.350410  22.363209  0.000000  0.000000   \n",
      "edit_period_q1        488.0   0.139344   0.346661  0.000000  0.000000   \n",
      "edit_period_q2        488.0   0.319672   0.466828  0.000000  0.000000   \n",
      "\n",
      "                   sme_50%   sme_75%     sme_max  unknown_count  unknown_mean  \\\n",
      "feature                                                                         \n",
      "page_edits        1.000000  4.000000  796.000000          497.0      3.225352   \n",
      "page_edits_ratio  0.001033  0.004569    0.483871          497.0      0.002300   \n",
      "page_talk_edits   0.000000  0.000000  393.000000          497.0      0.418511   \n",
      "edit_period_q1    0.000000  0.000000    1.000000          497.0      0.158954   \n",
      "edit_period_q2    0.000000  1.000000    1.000000          497.0      0.301811   \n",
      "\n",
      "                  unknown_std  unknown_min  unknown_25%  unknown_50%  \\\n",
      "feature                                                                \n",
      "page_edits           8.612486     1.000000     1.000000     1.000000   \n",
      "page_edits_ratio     0.008110     0.000057     0.000269     0.000543   \n",
      "page_talk_edits      1.934903     0.000000     0.000000     0.000000   \n",
      "edit_period_q1       0.366001     0.000000     0.000000     0.000000   \n",
      "edit_period_q2       0.459506     0.000000     0.000000     0.000000   \n",
      "\n",
      "                  unknown_75%  unknown_max  \n",
      "feature                                     \n",
      "page_edits           2.000000   105.000000  \n",
      "page_edits_ratio     0.001354     0.117647  \n",
      "page_talk_edits      0.000000    26.000000  \n",
      "edit_period_q1       0.000000     1.000000  \n",
      "edit_period_q2       1.000000     1.000000  \n"
     ]
    }
   ],
   "source": [
    "sme = df[df.label==1][features].describe().T\n",
    "unknown = df[df.label!=1][features].describe().T\n",
    "\n",
    "sme.rename(columns={col: 'sme_' + col for col in sme.columns}, inplace=True)\n",
    "unknown.rename(columns={col: 'unknown_' + col for col in unknown.columns}, inplace=True)\n",
    "\n",
    "sme.reset_index(inplace=True)\n",
    "unknown.reset_index(inplace=True)\n",
    "\n",
    "result = sme.merge(unknown, how='inner', on='index')\n",
    "result.rename(columns={'index': 'feature'}, inplace=True)\n",
    "result.set_index(keys=['feature'], inplace=True)\n",
    "print(result.head())\n",
    "\n",
    "result.to_csv(r'data/new_features_stats.csv', index=True)"
   ]
  }
 ],
 "metadata": {
  "kernelspec": {
   "display_name": "Python 3",
   "language": "python",
   "name": "python3"
  },
  "language_info": {
   "codemirror_mode": {
    "name": "ipython",
    "version": 3
   },
   "file_extension": ".py",
   "mimetype": "text/x-python",
   "name": "python",
   "nbconvert_exporter": "python",
   "pygments_lexer": "ipython3",
   "version": "3.7.1"
  }
 },
 "nbformat": 4,
 "nbformat_minor": 2
}
