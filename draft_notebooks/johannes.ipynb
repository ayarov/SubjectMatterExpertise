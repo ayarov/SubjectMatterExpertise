{
 "cells": [
  {
   "cell_type": "code",
   "execution_count": 15,
   "metadata": {
    "collapsed": true
   },
   "outputs": [],
   "source": [
    "import numpy as np\n",
    "import pandas as pd"
   ]
  },
  {
   "cell_type": "code",
   "execution_count": 1,
   "metadata": {
    "collapsed": true
   },
   "outputs": [],
   "source": [
    "new_train_path = r'C:\\Users\\AlexY\\Downloads\\johannes\\new\\revisions_all_2012db.tsv'\n",
    "old_train_path = r'C:\\Users\\AlexY\\Downloads\\johannes\\old\\revisions_all_2012db_train.tsv'"
   ]
  },
  {
   "cell_type": "code",
   "execution_count": 2,
   "metadata": {
    "collapsed": false
   },
   "outputs": [],
   "source": [
    "with open(new_train_path, encoding=\"utf8\") as f:\n",
    "    new_lines = f.readlines()"
   ]
  },
  {
   "cell_type": "code",
   "execution_count": 3,
   "metadata": {
    "collapsed": true
   },
   "outputs": [],
   "source": [
    "with open(old_train_path, encoding=\"utf8\") as f:\n",
    "    old_lines = f.readlines()"
   ]
  },
  {
   "cell_type": "code",
   "execution_count": 13,
   "metadata": {
    "collapsed": true
   },
   "outputs": [],
   "source": [
    "indexer = ['a', 'b', 'c', 'd', 'e', 'f', 'g', 'h', 'i', 'j', 'k', 'l', 'm']"
   ]
  },
  {
   "cell_type": "code",
   "execution_count": 61,
   "metadata": {
    "collapsed": true
   },
   "outputs": [],
   "source": [
    "def get_train_df(lines):\n",
    "    columns = ['revision_id'] + indexer\n",
    "\n",
    "    data = []\n",
    "    for l in lines:\n",
    "        segments = l.split('\\t')\n",
    "        revision_id = int(segments[1])\n",
    "        edit_types = str(segments[2].strip()).split(';')\n",
    "\n",
    "        np_page_rev = [revision_id]\n",
    "        np_edit_types = np.zeros(len(indexer))\n",
    "        for edit_type in edit_types:\n",
    "            np_edit_types[indexer.index(edit_type)] = 1\n",
    "\n",
    "        nd = np.concatenate((np_page_rev, np_edit_types))\n",
    "        data.append(nd)\n",
    "    return pd.DataFrame(data=data, columns=columns)   "
   ]
  },
  {
   "cell_type": "code",
   "execution_count": 62,
   "metadata": {
    "collapsed": false
   },
   "outputs": [
    {
     "name": "stdout",
     "output_type": "stream",
     "text": [
      "New shape: (13592, 14)\n",
      "New shape (no duplicates): (13592, 14)\n",
      "Old shape: (10874, 14)\n",
      "Old shape (no duplicates): (10874, 14)\n"
     ]
    }
   ],
   "source": [
    "new_df = get_train_df(new_lines)\n",
    "print('New shape: {}'.format(new_df.shape))\n",
    "new_df.drop_duplicates(inplace=True)\n",
    "print('New shape (no duplicates): {}'.format(new_df.shape))\n",
    "\n",
    "old_df = get_train_df(old_lines)\n",
    "print('Old shape: {}'.format(old_df.shape))\n",
    "old_df.drop_duplicates(inplace=True)\n",
    "print('Old shape (no duplicates): {}'.format(old_df.shape))"
   ]
  },
  {
   "cell_type": "code",
   "execution_count": 63,
   "metadata": {
    "collapsed": false
   },
   "outputs": [
    {
     "name": "stdout",
     "output_type": "stream",
     "text": [
      "Merged shape: (10874, 27)\n"
     ]
    }
   ],
   "source": [
    "df = pd.merge(left=new_df, right=old_df, how='inner', on='revision_id')\n",
    "print('Merged shape: {}'.format(df.shape))"
   ]
  },
  {
   "cell_type": "code",
   "execution_count": 64,
   "metadata": {
    "collapsed": false
   },
   "outputs": [
    {
     "name": "stdout",
     "output_type": "stream",
     "text": [
      "revision_id    float64\n",
      "a_x            float64\n",
      "b_x            float64\n",
      "c_x            float64\n",
      "d_x            float64\n",
      "e_x            float64\n",
      "f_x            float64\n",
      "g_x            float64\n",
      "h_x            float64\n",
      "i_x            float64\n",
      "j_x            float64\n",
      "k_x            float64\n",
      "l_x            float64\n",
      "m_x            float64\n",
      "a_y            float64\n",
      "b_y            float64\n",
      "c_y            float64\n",
      "d_y            float64\n",
      "e_y            float64\n",
      "f_y            float64\n",
      "g_y            float64\n",
      "h_y            float64\n",
      "i_y            float64\n",
      "j_y            float64\n",
      "k_y            float64\n",
      "l_y            float64\n",
      "m_y            float64\n",
      "dtype: object\n",
      "   revision_id  a_x  b_x  c_x  d_x  e_x  f_x  g_x  h_x  i_x ...   d_y  e_y  \\\n",
      "0   83091436.0  0.0  0.0  0.0  1.0  0.0  0.0  0.0  0.0  0.0 ...   1.0  0.0   \n",
      "1   26803181.0  0.0  1.0  1.0  0.0  0.0  0.0  0.0  0.0  0.0 ...   0.0  0.0   \n",
      "2   26806115.0  0.0  1.0  0.0  0.0  0.0  0.0  0.0  0.0  0.0 ...   0.0  0.0   \n",
      "3   26805153.0  0.0  0.0  1.0  0.0  0.0  0.0  0.0  0.0  0.0 ...   0.0  0.0   \n",
      "4   26807897.0  0.0  0.0  1.0  0.0  0.0  0.0  0.0  0.0  0.0 ...   0.0  0.0   \n",
      "\n",
      "   f_y  g_y  h_y  i_y  j_y  k_y  l_y  m_y  \n",
      "0  0.0  0.0  0.0  0.0  0.0  0.0  0.0  0.0  \n",
      "1  0.0  0.0  0.0  0.0  0.0  0.0  0.0  0.0  \n",
      "2  0.0  0.0  0.0  0.0  0.0  0.0  0.0  0.0  \n",
      "3  0.0  0.0  0.0  0.0  0.0  0.0  0.0  0.0  \n",
      "4  0.0  0.0  0.0  0.0  0.0  0.0  0.0  0.0  \n",
      "\n",
      "[5 rows x 27 columns]\n"
     ]
    }
   ],
   "source": [
    "print(df.dtypes)\n",
    "print(df.head())"
   ]
  },
  {
   "cell_type": "code",
   "execution_count": 70,
   "metadata": {
    "collapsed": false
   },
   "outputs": [
    {
     "name": "stdout",
     "output_type": "stream",
     "text": [
      "1.0\n",
      "1.0\n",
      "1.0\n",
      "1.0\n",
      "1.0\n",
      "1.0\n",
      "1.0\n",
      "1.0\n",
      "1.0\n",
      "1.0\n",
      "1.0\n",
      "1.0\n",
      "0.0\n"
     ]
    }
   ],
   "source": [
    "for cls in indexer:\n",
    "    new_series = df[cls + '_x']\n",
    "    old_series = df[cls + '_y']\n",
    "    print((new_series * old_series).sum() / (old_series.sum() if old_series.sum() > 0 else 1))"
   ]
  }
 ],
 "metadata": {
  "kernelspec": {
   "display_name": "Python 3",
   "language": "python",
   "name": "python3"
  },
  "language_info": {
   "codemirror_mode": {
    "name": "ipython",
    "version": 3
   },
   "file_extension": ".py",
   "mimetype": "text/x-python",
   "name": "python",
   "nbconvert_exporter": "python",
   "pygments_lexer": "ipython3",
   "version": "3.6.0"
  }
 },
 "nbformat": 4,
 "nbformat_minor": 2
}
