{
 "cells": [
  {
   "cell_type": "code",
   "execution_count": 1,
   "metadata": {},
   "outputs": [
    {
     "name": "stderr",
     "output_type": "stream",
     "text": [
      "/home/ubuntu/anaconda3/lib/python3.6/site-packages/sklearn/cross_validation.py:41: DeprecationWarning: This module was deprecated in version 0.18 in favor of the model_selection module into which all the refactored classes and functions are moved. Also note that the interface of the new CV iterators are different from that of this module. This module will be removed in 0.20.\n",
      "  \"This module will be removed in 0.20.\", DeprecationWarning)\n"
     ]
    }
   ],
   "source": [
    "import pandas as pd\n",
    "import numpy as np\n",
    "import sklearn.ensemble\n",
    "import seaborn as sns\n",
    "# allow plots to appear within the note\n",
    "%matplotlib inline\n",
    "import matplotlib.pyplot as plt\n",
    "import matplotlib.font_manager\n",
    "\n",
    "from scipy.stats import randint as sp_randint\n",
    "\n",
    "from pprint import pprint\n",
    "from sklearn.svm import SVC\n",
    "from sklearn.neighbors import KNeighborsClassifier\n",
    "from sklearn.ensemble import RandomForestClassifier, GradientBoostingClassifier\n",
    "from xgboost import XGBClassifier\n",
    "\n",
    "from sklearn.model_selection import cross_val_score, RandomizedSearchCV, train_test_split, StratifiedKFold, GridSearchCV\n",
    "from sklearn.metrics import accuracy_score, precision_score, recall_score, confusion_matrix, f1_score\n",
    "from sklearn.metrics import precision_recall_fscore_support as score"
   ]
  },
  {
   "cell_type": "code",
   "execution_count": 2,
   "metadata": {
    "collapsed": true
   },
   "outputs": [],
   "source": [
    "def __default_exclusion():\n",
    "    return ['page_id', 'page', 'category', 'user', 'label','content_token_edit_count_avg', 'content_token_vs_stop_words']\n",
    "\n",
    "def drop_columns_gm(columns):\n",
    "    drop_list = __generalized_model_exclusion()\n",
    "    drop_list.extend(columns)\n",
    "    return drop_list    \n",
    "\n",
    "def drop_columns_fm(columns):\n",
    "    drop_list = __full_model_exclusion()\n",
    "    drop_list.extend(columns)\n",
    "    return drop_list\n",
    "\n",
    "def __full_model_exclusion():\n",
    "    return __default_exclusion()\n",
    "\n",
    "def __generalized_model_exclusion():\n",
    "    exclusion = __default_exclusion()\n",
    "    exclusion.extend(['page_talk_edits',\n",
    "                        'tenure',\n",
    "                        'ns1_edit_dist',\n",
    "                        'ns2_edit_dist',\n",
    "                        'ns3_edit_dist',\n",
    "                        'ns4_edit_dist',\n",
    "                        'ns5_edit_dist',\n",
    "                        'ns6_edit_dist',\n",
    "                        'ns7_edit_dist',\n",
    "                        'ns8_edit_dist',\n",
    "                        'ns9_edit_dist',\n",
    "                        'ns10_edit_dist',\n",
    "                        'ns11_edit_dist',\n",
    "                        'ns12_edit_dist',\n",
    "                        'ns13_edit_dist',\n",
    "                        'ns14_edit_dist',\n",
    "                        'ns15_edit_dist',\n",
    "                        'total_edited_pages'])\n",
    "\n",
    "    \n",
    "    return exclusion\n",
    "    \n",
    "def get_metrics(classifier, x, y, cv):\n",
    "    results = cross_val_score(classifier, x, y, cv=cv)\n",
    "    \n",
    "    accuracy = results.mean()\n",
    "    precision = cross_val_score(classifier, x, y, scoring='precision', cv=cv).mean()\n",
    "    recall = cross_val_score(classifier, x, y, scoring='recall', cv=cv).mean()\n",
    "    f1 = cross_val_score(classifier, x, y, scoring='f1', cv=cv).mean()\n",
    "    roc_auc = cross_val_score(classifier, x, y, scoring='roc_auc', cv=cv).mean()\n",
    "\n",
    "    print(results)\n",
    "    print('Accuracy: %.3f%%' % accuracy)\n",
    "    print('Precision: %.3f%%' % precision) \n",
    "    print('Recall: %.3f%%' % recall)\n",
    "    print('F1: %.3f%%' % f1)\n",
    "    print('ROC AUC: %.3f%%' % roc_auc)\n",
    "    print('\\n')\n",
    "    return [accuracy, precision, recall, f1, roc_auc]"
   ]
  },
  {
   "cell_type": "code",
   "execution_count": 3,
   "metadata": {},
   "outputs": [
    {
     "name": "stdout",
     "output_type": "stream",
     "text": [
      "Total experts: 506\n",
      "Total non-experts: 514\n"
     ]
    }
   ],
   "source": [
    "# loading data (training set)\n",
    "df = pd.read_csv('data/new_train_data.csv', header=0)\n",
    "print('Total experts: {}'.format(len(df[df.label == 1])))\n",
    "print('Total non-experts: {}'.format(len(df[df.label == 0])))"
   ]
  },
  {
   "cell_type": "code",
   "execution_count": 4,
   "metadata": {
    "collapsed": true
   },
   "outputs": [],
   "source": [
    "df.drop(['edit_type_exists'], axis=1, inplace=True)\n",
    "\n",
    "df.rename(columns={'a': 'edit_type_a', \n",
    "                   'b': 'edit_type_b', \n",
    "                   'c': 'edit_type_c', \n",
    "                   'd': 'edit_type_d', \n",
    "                   'e': 'edit_type_e', \n",
    "                   'f': 'edit_type_f', \n",
    "                   'g': 'edit_type_g', \n",
    "                   'h': 'edit_type_h', \n",
    "                   'i': 'edit_type_i', \n",
    "                   'j': 'edit_type_j', \n",
    "                   'k': 'edit_type_k', \n",
    "                   'l': 'edit_type_l', \n",
    "                   'm': 'edit_type_m'}, inplace=True)"
   ]
  },
  {
   "cell_type": "code",
   "execution_count": 5,
   "metadata": {},
   "outputs": [
    {
     "name": "stdout",
     "output_type": "stream",
     "text": [
      "['edit_type_a', 'edit_type_b', 'edit_type_c', 'edit_type_d', 'edit_type_e', 'edit_type_f', 'edit_type_g', 'edit_type_h', 'edit_type_i', 'edit_type_j', 'edit_type_k', 'edit_type_l', 'edit_type_m']\n"
     ]
    }
   ],
   "source": [
    "edit_types = [col for col in df.columns if str(col).startswith('edit_type')]\n",
    "print(edit_types)"
   ]
  },
  {
   "cell_type": "code",
   "execution_count": 6,
   "metadata": {
    "collapsed": true
   },
   "outputs": [],
   "source": [
    "for edit_type in edit_types:\n",
    "    df[edit_type].fillna(value=-1, inplace=True)"
   ]
  },
  {
   "cell_type": "code",
   "execution_count": 7,
   "metadata": {},
   "outputs": [
    {
     "name": "stdout",
     "output_type": "stream",
     "text": [
      "[ 0.52427184  0.61165049  0.66990291  0.6407767   0.6372549   0.66666667\n",
      "  0.66336634  0.68316832  0.61386139  0.6039604 ]\n",
      "Accuracy: 0.631%\n",
      "Precision: 0.588%\n",
      "Recall: 0.866%\n",
      "F1: 0.700%\n",
      "ROC AUC: 0.650%\n",
      "\n",
      "\n",
      "[ 0.51456311  0.60194175  0.51456311  0.61165049  0.56862745  0.60784314\n",
      "  0.67326733  0.7029703   0.65346535  0.61386139]\n",
      "Accuracy: 0.606%\n",
      "Precision: 0.602%\n",
      "Recall: 0.619%\n",
      "F1: 0.609%\n",
      "ROC AUC: 0.642%\n",
      "\n",
      "\n",
      "[ 0.73786408  0.7184466   0.7184466   0.70873786  0.75490196  0.7254902\n",
      "  0.72277228  0.81188119  0.78217822  0.72277228]\n",
      "Accuracy: 0.740%\n",
      "Precision: 0.734%\n",
      "Recall: 0.757%\n",
      "F1: 0.742%\n",
      "ROC AUC: 0.832%\n",
      "\n",
      "\n",
      "[ 0.75728155  0.66019417  0.72815534  0.78640777  0.76470588  0.79411765\n",
      "  0.71287129  0.76237624  0.83168317  0.77227723]\n",
      "Accuracy: 0.757%\n",
      "Precision: 0.752%\n",
      "Recall: 0.773%\n",
      "F1: 0.759%\n",
      "ROC AUC: 0.842%\n",
      "\n",
      "\n",
      "[ 0.74757282  0.67961165  0.67961165  0.76699029  0.7745098   0.80392157\n",
      "  0.74257426  0.75247525  0.8019802   0.76237624]\n",
      "Accuracy: 0.751%\n",
      "Precision: 0.747%\n",
      "Recall: 0.763%\n",
      "F1: 0.752%\n",
      "ROC AUC: 0.839%\n",
      "\n",
      "\n"
     ]
    }
   ],
   "source": [
    "n_estimators = 160\n",
    "random_state = 123\n",
    "kfold = StratifiedKFold(n_splits=10, random_state=random_state)\n",
    "columns = ['Algorithm', 'Accuracy', 'Precision', 'Recall', 'F1', 'ROC AUC']\n",
    "\n",
    "X = df.drop(__generalized_model_exclusion(), axis=1)\n",
    "y = df.label\n",
    "\n",
    "svm = SVC(kernel='rbf', C=1.0, random_state=random_state)\n",
    "knn = KNeighborsClassifier(n_neighbors=5)\n",
    "rf = RandomForestClassifier(n_estimators=n_estimators, random_state=random_state)\n",
    "gbc = GradientBoostingClassifier(n_estimators = n_estimators, random_state=random_state)\n",
    "xgb = XGBClassifier(objective='binary:logistic', seed=random_state, n_estimators=n_estimators)\n",
    "\n",
    "models = [svm, knn, rf, gbc, xgb]\n",
    "\n",
    "rows = []\n",
    "for model in models:\n",
    "    model_name = type(model).__name__\n",
    "    metrics = get_metrics(classifier=model, x=X, y=y, cv=kfold)\n",
    "    \n",
    "    row = [model_name]\n",
    "    for metric in metrics:\n",
    "        row.append(metric)\n",
    "    rows.append(row)\n",
    "\n",
    "model_df = pd.DataFrame(rows, columns=columns)\n",
    "model_df.to_csv('data/new_algorithm_comparison_gm.csv', index=False)"
   ]
  },
  {
   "cell_type": "code",
   "execution_count": 8,
   "metadata": {},
   "outputs": [
    {
     "name": "stdout",
     "output_type": "stream",
     "text": [
      "[ 0.55339806  0.60194175  0.6407767   0.65048544  0.62745098  0.64705882\n",
      "  0.66336634  0.69306931  0.63366337  0.66336634]\n",
      "Accuracy: 0.637%\n",
      "Precision: 0.582%\n",
      "Recall: 0.968%\n",
      "F1: 0.726%\n",
      "ROC AUC: 0.684%\n",
      "\n",
      "\n",
      "[ 0.58252427  0.62135922  0.49514563  0.6407767   0.59803922  0.62745098\n",
      "  0.69306931  0.72277228  0.67326733  0.62376238]\n",
      "Accuracy: 0.628%\n",
      "Precision: 0.617%\n",
      "Recall: 0.660%\n",
      "F1: 0.637%\n",
      "ROC AUC: 0.668%\n",
      "\n",
      "\n",
      "[ 0.75728155  0.74757282  0.7961165   0.78640777  0.83333333  0.79411765\n",
      "  0.73267327  0.84158416  0.87128713  0.83168317]\n",
      "Accuracy: 0.799%\n",
      "Precision: 0.776%\n",
      "Recall: 0.846%\n",
      "F1: 0.807%\n",
      "ROC AUC: 0.891%\n",
      "\n",
      "\n",
      "[ 0.78640777  0.76699029  0.72815534  0.7961165   0.82352941  0.78431373\n",
      "  0.77227723  0.82178218  0.89108911  0.83168317]\n",
      "Accuracy: 0.800%\n",
      "Precision: 0.791%\n",
      "Recall: 0.820%\n",
      "F1: 0.803%\n",
      "ROC AUC: 0.883%\n",
      "\n",
      "\n",
      "[ 0.77669903  0.76699029  0.74757282  0.7961165   0.82352941  0.81372549\n",
      "  0.79207921  0.82178218  0.87128713  0.76237624]\n",
      "Accuracy: 0.797%\n",
      "Precision: 0.781%\n",
      "Recall: 0.826%\n",
      "F1: 0.801%\n",
      "ROC AUC: 0.882%\n",
      "\n",
      "\n"
     ]
    }
   ],
   "source": [
    "n_estimators = 160\n",
    "random_state = 123\n",
    "kfold = StratifiedKFold(n_splits=10, random_state=random_state)\n",
    "columns = ['Algorithm', 'Accuracy', 'Precision', 'Recall', 'F1', 'ROC AUC']\n",
    "\n",
    "X = df.drop(__full_model_exclusion(), axis=1)\n",
    "y = df.label\n",
    "\n",
    "svm = SVC(kernel='rbf', C=1.0, random_state=random_state)\n",
    "knn = KNeighborsClassifier(n_neighbors=5)\n",
    "rf = RandomForestClassifier(n_estimators=n_estimators, random_state=random_state)\n",
    "gbc = GradientBoostingClassifier(n_estimators = n_estimators, random_state=random_state)\n",
    "xgb = XGBClassifier(objective='binary:logistic', seed=random_state, n_estimators=n_estimators)\n",
    "\n",
    "models = [svm, knn, rf, gbc, xgb]\n",
    "\n",
    "rows = []\n",
    "for model in models:\n",
    "    model_name = type(model).__name__\n",
    "    metrics = get_metrics(classifier=model, x=X, y=y, cv=kfold)\n",
    "    \n",
    "    row = [model_name]\n",
    "    for metric in metrics:\n",
    "        row.append(metric)\n",
    "    rows.append(row)\n",
    "\n",
    "model_df = pd.DataFrame(rows, columns=columns)\n",
    "model_df.to_csv('data/new_algorithm_comparison_fm.csv', index=False)"
   ]
  }
 ],
 "metadata": {
  "kernelspec": {
   "display_name": "Python 3",
   "language": "python",
   "name": "python3"
  },
  "language_info": {
   "codemirror_mode": {
    "name": "ipython",
    "version": 3
   },
   "file_extension": ".py",
   "mimetype": "text/x-python",
   "name": "python",
   "nbconvert_exporter": "python",
   "pygments_lexer": "ipython3",
   "version": "3.6.3"
  }
 },
 "nbformat": 4,
 "nbformat_minor": 2
}
