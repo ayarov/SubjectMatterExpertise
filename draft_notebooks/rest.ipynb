{
 "cells": [
  {
   "cell_type": "code",
   "execution_count": 19,
   "metadata": {},
   "outputs": [
    {
     "name": "stdout",
     "output_type": "stream",
     "text": [
      "{'enwiki': {'models': {'wp10': {'version': '0.6.1'}}, 'scores': {'34854345': {'wp10': {'score': {'prediction': 'FA', 'probability': {'B': 0.2793652116765542, 'C': 0.02585302154531976, 'FA': 0.6597327928576079, 'GA': 0.014981520683401443, 'Start': 0.01800308546457139, 'Stub': 0.0020643677725453533}}}}}}}\n"
     ]
    }
   ],
   "source": [
    "import urllib.request\n",
    "import urllib.parse\n",
    "\n",
    "url = 'https://ores.wikimedia.org/v3/scores/enwiki/34854345?models=wp10'\n",
    "# params = {'models': 'wp10'}\n",
    "\n",
    "# data = urllib.parse.urlencode(params)\n",
    "# data = data.encode('utf-8')\n",
    "req = urllib.request.Request(url=url)\n",
    "res = urllib.request.urlopen(req)\n",
    "\n",
    "json_data = json.loads(res.read())\n",
    "\n",
    "del(req)\n",
    "del(res)\n",
    "\n",
    "print(json_data)\n",
    "\n",
    "# x = urllib.request.urlopen('https://ores.wikimedia.org/v3/scores/enwiki/34854345?models=wp10')\n",
    "# json_data = json.loads(x.read())\n",
    "# x.close()\n",
    "# del(x)\n",
    "# print(json_data)\n",
    "\n"
   ]
  },
  {
   "cell_type": "code",
   "execution_count": 23,
   "metadata": {},
   "outputs": [
    {
     "name": "stdout",
     "output_type": "stream",
     "text": [
      "{'prediction': 'FA', 'probability': {'B': 0.2793652116765542, 'C': 0.02585302154531976, 'FA': 0.6597327928576079, 'GA': 0.014981520683401443, 'Start': 0.01800308546457139, 'Stub': 0.0020643677725453533}}\n"
     ]
    }
   ],
   "source": [
    "print(json_data['enwiki']['scores']['34854345']['wp10']['score'])"
   ]
  }
 ],
 "metadata": {
  "kernelspec": {
   "display_name": "Python 3",
   "language": "python",
   "name": "python3"
  },
  "language_info": {
   "codemirror_mode": {
    "name": "ipython",
    "version": 3
   },
   "file_extension": ".py",
   "mimetype": "text/x-python",
   "name": "python",
   "nbconvert_exporter": "python",
   "pygments_lexer": "ipython3",
   "version": "3.6.1"
  }
 },
 "nbformat": 4,
 "nbformat_minor": 2
}
