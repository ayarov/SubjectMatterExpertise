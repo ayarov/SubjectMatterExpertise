{
 "cells": [
  {
   "cell_type": "markdown",
   "metadata": {},
   "source": [
    "<html>\n",
    "    <head>\n",
    "        <h3>Wikipedia Data Transformer</h3>\n",
    "    </head>\n",
    "    <body>\n",
    "        <ul>\n",
    "          <li>Read XML dump files</li>\n",
    "          <li>Extract: 'rev_id', 'timestamp', 'user_id', 'user_name', 'page_id', 'page_ns'</li>\n",
    "          <li>Save the data to HDF files</li>\n",
    "        </ul>\n",
    "    </body>\n",
    "</html>"
   ]
  },
  {
   "cell_type": "code",
   "execution_count": 1,
   "metadata": {},
   "outputs": [],
   "source": [
    "import os\n",
    "import gzip\n",
    "import pandas as pd\n",
    "from dateutil import parser"
   ]
  },
  {
   "cell_type": "code",
   "execution_count": 2,
   "metadata": {},
   "outputs": [],
   "source": [
    "def get_value(text, tag):\n",
    "    return text[len('<{}>'.format(tag)) : text.find('</{}>'.format(tag))]"
   ]
  },
  {
   "cell_type": "code",
   "execution_count": 17,
   "metadata": {
    "scrolled": false
   },
   "outputs": [],
   "source": [
    "def process_file(file_name, new_file_name):\n",
    "    seg = 0\n",
    "    data = []\n",
    "    with gzip.open(file_name, 'rb') as f:  \n",
    "        is_page = False\n",
    "        is_revision = False\n",
    "        is_contributor = False\n",
    "        for i, line in enumerate(f):\n",
    "            line = str(line)[1:].replace('\\'', '').replace('\\\\n', '').strip()\n",
    "            \n",
    "            if line.startswith('<page>'):\n",
    "                is_page = True\n",
    "            elif line.startswith('</page>'):\n",
    "                is_page = False\n",
    "            elif line.startswith('<contributor>'):\n",
    "                is_contributor = True\n",
    "            elif line.startswith('</contributor>'):\n",
    "                is_contributor = False\n",
    "            elif line.startswith('<revision>'):\n",
    "                is_revision = True\n",
    "            elif line.startswith('</revision>'):\n",
    "                is_revision = False\n",
    "                data.append([rev_id, timestamp, user_id, user_name, page_id, page_ns]) \n",
    "            else:\n",
    "                if is_page:\n",
    "                    if line.startswith('<id') and not is_revision and not is_contributor:\n",
    "                        page_id = int(get_value(line, 'id'))\n",
    "                    if line.startswith('<ns'):\n",
    "                        page_ns = int(get_value(line, 'ns'))\n",
    "\n",
    "                if is_revision and not is_contributor:\n",
    "                    if line.startswith('<id'):\n",
    "                        rev_id = int(get_value(line, 'id'))\n",
    "                    if line.startswith('<timestamp'):\n",
    "                        timestamp = parser.parse(str(get_value(line, 'timestamp')))\n",
    "                  \n",
    "                if is_contributor:\n",
    "                    if line.startswith('<ip'):\n",
    "                        user_id = 0\n",
    "                        user_name = str(get_value(line, 'ip'))\n",
    "                    if line.startswith('<id'):\n",
    "                        user_id = int(get_value(line, 'id'))\n",
    "                    if line.startswith('<username'):\n",
    "                        user_name = str(get_value(line, 'username'))\n",
    "\n",
    "                        \n",
    "            if len(data) > 0 and len(data) % 10000000 == 0:\n",
    "                seg += 1          \n",
    "                df = pd.DataFrame(data=data, columns=['rev_id', 'timestamp', 'user_id', 'user_name', 'page_id', 'page_ns'])\n",
    "                df.to_hdf(new_file_name.replace('.h5', f'_p{seg}.h5'), key='enwiki')\n",
    "                data = []\n",
    "                del df\n",
    "                \n",
    "    df = pd.DataFrame(data=data, columns=['rev_id', 'timestamp', 'user_id', 'user_name', 'page_id', 'page_ns'])\n",
    "    del data\n",
    "    df.to_hdf(new_file_name, key='enwiki')\n",
    "#     print(df.head(100))\n",
    "    del df"
   ]
  },
  {
   "cell_type": "code",
   "execution_count": 42,
   "metadata": {},
   "outputs": [],
   "source": [
    "def analyze_file(file_name):\n",
    "    total_rows = 0\n",
    "    with gzip.open(file_name, 'rb') as f:\n",
    "        for i, line in enumerate(f):\n",
    "            if i % 1000000 == 0 and i > 0:\n",
    "                print(f\"{i/1000000}M\")\n",
    "            total_rows = i\n",
    "    print(f\"Total rows: {total_rows}\")"
   ]
  },
  {
   "cell_type": "code",
   "execution_count": 44,
   "metadata": {},
   "outputs": [
    {
     "name": "stdout",
     "output_type": "stream",
     "text": [
      "D:\\data\\enwiki\\latest\\enwiki-latest-stub-meta-history1.xml.gz -> D:\\data\\enwiki\\latest\\enwiki-latest-stub-meta-history1.h5\n",
      "D:\\data\\enwiki\\latest\\enwiki-latest-stub-meta-history10.xml.gz -> D:\\data\\enwiki\\latest\\enwiki-latest-stub-meta-history10.h5\n",
      "D:\\data\\enwiki\\latest\\enwiki-latest-stub-meta-history11.xml.gz -> D:\\data\\enwiki\\latest\\enwiki-latest-stub-meta-history11.h5\n",
      "D:\\data\\enwiki\\latest\\enwiki-latest-stub-meta-history12.xml.gz -> D:\\data\\enwiki\\latest\\enwiki-latest-stub-meta-history12.h5\n",
      "D:\\data\\enwiki\\latest\\enwiki-latest-stub-meta-history13.xml.gz -> D:\\data\\enwiki\\latest\\enwiki-latest-stub-meta-history13.h5\n",
      "D:\\data\\enwiki\\latest\\enwiki-latest-stub-meta-history14.xml.gz -> D:\\data\\enwiki\\latest\\enwiki-latest-stub-meta-history14.h5\n",
      "D:\\data\\enwiki\\latest\\enwiki-latest-stub-meta-history15.xml.gz -> D:\\data\\enwiki\\latest\\enwiki-latest-stub-meta-history15.h5\n",
      "D:\\data\\enwiki\\latest\\enwiki-latest-stub-meta-history16.xml.gz -> D:\\data\\enwiki\\latest\\enwiki-latest-stub-meta-history16.h5\n",
      "D:\\data\\enwiki\\latest\\enwiki-latest-stub-meta-history17.xml.gz -> D:\\data\\enwiki\\latest\\enwiki-latest-stub-meta-history17.h5\n",
      "D:\\data\\enwiki\\latest\\enwiki-latest-stub-meta-history18.xml.gz -> D:\\data\\enwiki\\latest\\enwiki-latest-stub-meta-history18.h5\n",
      "D:\\data\\enwiki\\latest\\enwiki-latest-stub-meta-history19.xml.gz -> D:\\data\\enwiki\\latest\\enwiki-latest-stub-meta-history19.h5\n",
      "D:\\data\\enwiki\\latest\\enwiki-latest-stub-meta-history2.xml.gz -> D:\\data\\enwiki\\latest\\enwiki-latest-stub-meta-history2.h5\n",
      "D:\\data\\enwiki\\latest\\enwiki-latest-stub-meta-history20.xml.gz -> D:\\data\\enwiki\\latest\\enwiki-latest-stub-meta-history20.h5\n",
      "D:\\data\\enwiki\\latest\\enwiki-latest-stub-meta-history21.xml.gz -> D:\\data\\enwiki\\latest\\enwiki-latest-stub-meta-history21.h5\n",
      "D:\\data\\enwiki\\latest\\enwiki-latest-stub-meta-history22.xml.gz -> D:\\data\\enwiki\\latest\\enwiki-latest-stub-meta-history22.h5\n",
      "D:\\data\\enwiki\\latest\\enwiki-latest-stub-meta-history23.xml.gz -> D:\\data\\enwiki\\latest\\enwiki-latest-stub-meta-history23.h5\n",
      "D:\\data\\enwiki\\latest\\enwiki-latest-stub-meta-history24.xml.gz -> D:\\data\\enwiki\\latest\\enwiki-latest-stub-meta-history24.h5\n",
      "D:\\data\\enwiki\\latest\\enwiki-latest-stub-meta-history25.xml.gz -> D:\\data\\enwiki\\latest\\enwiki-latest-stub-meta-history25.h5\n",
      "D:\\data\\enwiki\\latest\\enwiki-latest-stub-meta-history26.xml.gz -> D:\\data\\enwiki\\latest\\enwiki-latest-stub-meta-history26.h5\n",
      "D:\\data\\enwiki\\latest\\enwiki-latest-stub-meta-history27.xml.gz -> D:\\data\\enwiki\\latest\\enwiki-latest-stub-meta-history27.h5\n",
      "D:\\data\\enwiki\\latest\\enwiki-latest-stub-meta-history3.xml.gz -> D:\\data\\enwiki\\latest\\enwiki-latest-stub-meta-history3.h5\n",
      "D:\\data\\enwiki\\latest\\enwiki-latest-stub-meta-history4.xml.gz -> D:\\data\\enwiki\\latest\\enwiki-latest-stub-meta-history4.h5\n",
      "D:\\data\\enwiki\\latest\\enwiki-latest-stub-meta-history5.xml.gz -> D:\\data\\enwiki\\latest\\enwiki-latest-stub-meta-history5.h5\n",
      "D:\\data\\enwiki\\latest\\enwiki-latest-stub-meta-history6.xml.gz -> D:\\data\\enwiki\\latest\\enwiki-latest-stub-meta-history6.h5\n",
      "D:\\data\\enwiki\\latest\\enwiki-latest-stub-meta-history7.xml.gz -> D:\\data\\enwiki\\latest\\enwiki-latest-stub-meta-history7.h5\n",
      "D:\\data\\enwiki\\latest\\enwiki-latest-stub-meta-history8.xml.gz -> D:\\data\\enwiki\\latest\\enwiki-latest-stub-meta-history8.h5\n",
      "D:\\data\\enwiki\\latest\\enwiki-latest-stub-meta-history9.xml.gz -> D:\\data\\enwiki\\latest\\enwiki-latest-stub-meta-history9.h5\n"
     ]
    }
   ],
   "source": [
    "# base_path = r'\\\\asustor\\download\\enwiki\\20180820\\xml'\n",
    "base_path = r'D:\\data\\enwiki\\latest'\n",
    "for root, dirs, files in os.walk(base_path):\n",
    "    for file in files:\n",
    "        file_name=os.path.join(root, file)\n",
    "        new_file_name = file_name.replace('.xml.gz', '.h5')\n",
    "        if os.path.exists(new_file_name):\n",
    "            print('Exists: {}'.format(new_file_name))\n",
    "            continue\n",
    "        \n",
    "        print('{} -> {}'.format(file_name, new_file_name))\n",
    "#         analyze_file(file_name)\n",
    "        process_file(file_name=file_name, new_file_name=new_file_name)\n",
    "#         break"
   ]
  }
 ],
 "metadata": {
  "kernelspec": {
   "display_name": "Python 3",
   "language": "python",
   "name": "python3"
  },
  "language_info": {
   "codemirror_mode": {
    "name": "ipython",
    "version": 3
   },
   "file_extension": ".py",
   "mimetype": "text/x-python",
   "name": "python",
   "nbconvert_exporter": "python",
   "pygments_lexer": "ipython3",
   "version": "3.7.1"
  }
 },
 "nbformat": 4,
 "nbformat_minor": 2
}
