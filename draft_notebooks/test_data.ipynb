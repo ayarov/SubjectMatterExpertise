{
 "cells": [
  {
   "cell_type": "code",
   "execution_count": 2,
   "metadata": {
    "collapsed": true
   },
   "outputs": [],
   "source": [
    "import pandas as pd"
   ]
  },
  {
   "cell_type": "code",
   "execution_count": 2,
   "metadata": {
    "collapsed": true
   },
   "outputs": [],
   "source": [
    "def get_labels():\n",
    "    labels = []\n",
    "    # article_name_to_id_map = get_article_name_to_id_map()\n",
    "    for line in open(r'D:/Development/Thesis/Data/labels.txt'):\n",
    "        line = line.replace('\\n', '')\n",
    "\n",
    "        l_index = line.find('\\t')\n",
    "        article_id = line[:l_index]\n",
    "        line = line[l_index + 1:]\n",
    "\n",
    "        l_index = line.find('\\t')\n",
    "        article_name = line[:l_index]\n",
    "\n",
    "        r_index = line.rfind('\\t')\n",
    "        user_label = int(line[r_index + 1:])\n",
    "        user_name = line[l_index + 1:r_index]\n",
    "\n",
    "        labels.append((article_id, article_name, user_name, user_label))\n",
    "    return labels"
   ]
  },
  {
   "cell_type": "code",
   "execution_count": 7,
   "metadata": {},
   "outputs": [
    {
     "name": "stdout",
     "output_type": "stream",
     "text": [
      "total labeled articles: 590\n"
     ]
    }
   ],
   "source": [
    "# loading labeled dataset\n",
    "cols = ['article_id', 'article_name', 'user_name', 'user_label']\n",
    "rows = []\n",
    "for article_id, article_name, user_name, user_label in get_labels():\n",
    "    rows.append([int(article_id), article_name, user_name, user_label])\n",
    "\n",
    "labels = pd.DataFrame(rows, columns=cols)\n",
    "print('total labeled articles: {}'.format(len(labels.article_id.unique())))"
   ]
  },
  {
   "cell_type": "code",
   "execution_count": 6,
   "metadata": {},
   "outputs": [
    {
     "name": "stdout",
     "output_type": "stream",
     "text": [
      "total test articles: 100\n"
     ]
    }
   ],
   "source": [
    "# loading test ids\n",
    "test_ids = pd.read_csv(r'D:/Development/Thesis/Data/wiki_test_ids.csv', header=None)\n",
    "test_ids = test_ids.rename(columns={0: \"article_id\"})\n",
    "print('total test articles: {}'.format(len(test_ids.article_id.unique())))"
   ]
  },
  {
   "cell_type": "code",
   "execution_count": 8,
   "metadata": {},
   "outputs": [
    {
     "name": "stdout",
     "output_type": "stream",
     "text": [
      "total train articles: 496\n"
     ]
    }
   ],
   "source": [
    "# train ids extracted from labels (all non-test ids)\n",
    "train_ids = labels[~labels.article_id.isin(test_ids.article_id)]\n",
    "train_ids = pd.DataFrame(train_ids.article_id.unique(), columns=['article_id'])\n",
    "print('total train articles: {}'.format(len(train_ids.article_id.unique())))"
   ]
  },
  {
   "cell_type": "code",
   "execution_count": 6,
   "metadata": {},
   "outputs": [
    {
     "data": {
      "text/html": [
       "<div>\n",
       "<style>\n",
       "    .dataframe thead tr:only-child th {\n",
       "        text-align: right;\n",
       "    }\n",
       "\n",
       "    .dataframe thead th {\n",
       "        text-align: left;\n",
       "    }\n",
       "\n",
       "    .dataframe tbody tr th {\n",
       "        vertical-align: top;\n",
       "    }\n",
       "</style>\n",
       "<table border=\"1\" class=\"dataframe\">\n",
       "  <thead>\n",
       "    <tr style=\"text-align: right;\">\n",
       "      <th></th>\n",
       "      <th>article_id</th>\n",
       "      <th>article_name</th>\n",
       "    </tr>\n",
       "  </thead>\n",
       "  <tbody>\n",
       "    <tr>\n",
       "      <th>0</th>\n",
       "      <td>18056921</td>\n",
       "      <td>BÇŽtuta NeagrÄƒ</td>\n",
       "    </tr>\n",
       "    <tr>\n",
       "      <th>1</th>\n",
       "      <td>18077446</td>\n",
       "      <td>Havatzelet HaSharon</td>\n",
       "    </tr>\n",
       "    <tr>\n",
       "      <th>2</th>\n",
       "      <td>18028108</td>\n",
       "      <td>Burgata</td>\n",
       "    </tr>\n",
       "    <tr>\n",
       "      <th>3</th>\n",
       "      <td>18069865</td>\n",
       "      <td>Uvaria chamae</td>\n",
       "    </tr>\n",
       "    <tr>\n",
       "      <th>4</th>\n",
       "      <td>18076465</td>\n",
       "      <td>Givat Shapira</td>\n",
       "    </tr>\n",
       "  </tbody>\n",
       "</table>\n",
       "</div>"
      ],
      "text/plain": [
       "   article_id         article_name\n",
       "0    18056921      BÇŽtuta NeagrÄƒ\n",
       "1    18077446  Havatzelet HaSharon\n",
       "2    18028108              Burgata\n",
       "3    18069865        Uvaria chamae\n",
       "4    18076465        Givat Shapira"
      ]
     },
     "execution_count": 6,
     "metadata": {},
     "output_type": "execute_result"
    }
   ],
   "source": [
    "# the entire set of 1000 articles \n",
    "all_ids = pd.read_csv(r'D:/Development/Thesis/Data/1000_titles_ids.csv', header=None)\n",
    "all_ids = all_ids.rename(columns={0: \"article_id\", 1: \"article_name\"})\n",
    "all_ids.head()"
   ]
  },
  {
   "cell_type": "code",
   "execution_count": 13,
   "metadata": {},
   "outputs": [
    {
     "name": "stdout",
     "output_type": "stream",
     "text": [
      "More articles for testing: 404 Existing test: 100\n"
     ]
    }
   ],
   "source": [
    "# total ids not included in train neither in test\n",
    "more_ids = all_ids[(~all_ids.article_id.isin(train_ids.article_id)) & (~all_ids.article_id.isin(test_ids.article_id))]\n",
    "print('More articles for testing: {} Existing test: {}'.format(len(more_ids), len(test_ids.article_id))) \n",
    "more_ids.to_csv(r'D:/Development/Thesis/Data/more_test.csv', index=False)"
   ]
  },
  {
   "cell_type": "code",
   "execution_count": 3,
   "metadata": {},
   "outputs": [
    {
     "name": "stdout",
     "output_type": "stream",
     "text": [
      "30839\n",
      "93\n"
     ]
    }
   ],
   "source": [
    "test_data_1 = pd.read_csv(r'Z:\\thesis\\test_data_1.csv')\n",
    "print(len(test_data_1))\n",
    "print(len(list(test_data_1.page_id.unique())))"
   ]
  },
  {
   "cell_type": "code",
   "execution_count": 4,
   "metadata": {},
   "outputs": [
    {
     "name": "stdout",
     "output_type": "stream",
     "text": [
      "580070\n",
      "299\n"
     ]
    }
   ],
   "source": [
    "test_data_2 = pd.read_csv(r'Z:\\thesis\\test_data_2.csv')\n",
    "print(len(test_data_2))\n",
    "print(len(list(test_data_2.page_id.unique())))"
   ]
  },
  {
   "cell_type": "code",
   "execution_count": 5,
   "metadata": {},
   "outputs": [
    {
     "name": "stdout",
     "output_type": "stream",
     "text": [
      "11088\n",
      "299\n"
     ]
    }
   ],
   "source": [
    "test_data_2.drop_duplicates(subset=['page_id', 'user'], inplace=True)\n",
    "print(len(test_data_2))\n",
    "print(len(list(test_data_2.page_id.unique())))"
   ]
  },
  {
   "cell_type": "code",
   "execution_count": 6,
   "metadata": {},
   "outputs": [
    {
     "name": "stdout",
     "output_type": "stream",
     "text": [
      "11017\n",
      "292\n"
     ]
    }
   ],
   "source": [
    "ids_292 = test_data_2.page_id.unique()[:292]\n",
    "test_data_2 = test_data_2[test_data_2.page_id.isin(ids_292)]\n",
    "print(len(test_data_2))\n",
    "print(len(list(test_data_2.page_id.unique())))"
   ]
  },
  {
   "cell_type": "code",
   "execution_count": 7,
   "metadata": {
    "collapsed": true
   },
   "outputs": [],
   "source": [
    "test_data = pd.concat([test_data_1, test_data_2])"
   ]
  },
  {
   "cell_type": "code",
   "execution_count": 8,
   "metadata": {},
   "outputs": [
    {
     "name": "stdout",
     "output_type": "stream",
     "text": [
      "Q1: How many articles? Answer: 385\n"
     ]
    }
   ],
   "source": [
    "print('Q1: How many articles? Answer: {}'.format(len(test_data.page_id.unique())))"
   ]
  },
  {
   "cell_type": "code",
   "execution_count": 10,
   "metadata": {},
   "outputs": [
    {
     "name": "stdout",
     "output_type": "stream",
     "text": [
      "Q2: How many pairs in total? Answer: 41856\n"
     ]
    }
   ],
   "source": [
    "print('Q2: How many pairs in total? Answer: {}'.format(test_data.shape[0]))"
   ]
  },
  {
   "cell_type": "code",
   "execution_count": 11,
   "metadata": {},
   "outputs": [
    {
     "name": "stdout",
     "output_type": "stream",
     "text": [
      "Q3: How many unique editors? Answer: 35449\n"
     ]
    }
   ],
   "source": [
    "print('Q3: How many unique editors? Answer: {}'.format(len(test_data.user.unique())))"
   ]
  },
  {
   "cell_type": "code",
   "execution_count": 58,
   "metadata": {
    "collapsed": true
   },
   "outputs": [],
   "source": [
    "pd.to_pickle(path=r'Z:\\thesis\\test_data_385_articles.bz2', obj=test_data, compression='bz2')"
   ]
  },
  {
   "cell_type": "code",
   "execution_count": 18,
   "metadata": {
    "collapsed": true
   },
   "outputs": [],
   "source": [
    "restored_df = pd.read_pickle(path=r'Z:\\thesis\\test_data.bz2', compression='bz2')"
   ]
  },
  {
   "cell_type": "code",
   "execution_count": 21,
   "metadata": {},
   "outputs": [
    {
     "data": {
      "text/plain": [
       "594431"
      ]
     },
     "execution_count": 21,
     "metadata": {},
     "output_type": "execute_result"
    }
   ],
   "source": [
    "len(restored_df)"
   ]
  },
  {
   "cell_type": "code",
   "execution_count": 26,
   "metadata": {},
   "outputs": [
    {
     "data": {
      "text/plain": [
       "0                Mottic\n",
       "1         MaronitePride\n",
       "2             Number 57\n",
       "3           Closedmouth\n",
       "4                Eewild\n",
       "5        89.139.125.185\n",
       "6              Ynhockey\n",
       "7        Chicbyaccident\n",
       "8              Frietjes\n",
       "9              Tabletop\n",
       "10    WereSpielChequers\n",
       "11               Jllm06\n",
       "12        64.254.239.66\n",
       "13            Gilabrand\n",
       "14           Solar-Wind\n",
       "Name: user, dtype: object"
      ]
     },
     "execution_count": 26,
     "metadata": {},
     "output_type": "execute_result"
    }
   ],
   "source": [
    "df = test_data_1\n",
    "df[df.page_id == 18028108]['user']"
   ]
  },
  {
   "cell_type": "code",
   "execution_count": 34,
   "metadata": {
    "collapsed": true
   },
   "outputs": [],
   "source": [
    "df = test_data_2\n",
    "# print(df[df.page_id == 967].sort_values(['user'])[].head(100))\n",
    "df[df.page_id == 967].sort_values(['user']).to_csv(r'Z:\\thesis\\967.csv')\n"
   ]
  },
  {
   "cell_type": "code",
   "execution_count": 36,
   "metadata": {
    "collapsed": true
   },
   "outputs": [],
   "source": [
    "df = pd.read_csv(r'Z:\\thesis\\967.csv')\n",
    "df.drop_duplicates(subset=['page_id', 'user'], inplace=True)\n",
    "df.to_csv(r'Z:\\thesis\\967_1.csv')"
   ]
  }
 ],
 "metadata": {
  "kernelspec": {
   "display_name": "Python 3",
   "language": "python",
   "name": "python3"
  },
  "language_info": {
   "codemirror_mode": {
    "name": "ipython",
    "version": 3
   },
   "file_extension": ".py",
   "mimetype": "text/x-python",
   "name": "python",
   "nbconvert_exporter": "python",
   "pygments_lexer": "ipython3",
   "version": "3.6.1"
  }
 },
 "nbformat": 4,
 "nbformat_minor": 2
}
