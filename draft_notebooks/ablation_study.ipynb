{
 "cells": [
  {
   "cell_type": "code",
   "execution_count": 1,
   "metadata": {},
   "outputs": [],
   "source": [
    "%matplotlib inline\n",
    "import matplotlib.pyplot as plt\n",
    "\n",
    "import numpy as np\n",
    "import pandas as pd\n",
    "from numpy import sort\n",
    "from xgboost import XGBClassifier\n",
    "from sklearn.model_selection import cross_val_score, StratifiedKFold, GridSearchCV"
   ]
  },
  {
   "cell_type": "code",
   "execution_count": 2,
   "metadata": {
    "collapsed": true
   },
   "outputs": [],
   "source": [
    "def __default_exclusion():\n",
    "    return ['page_id', 'page', 'category', 'user', 'label','content_token_edit_count_avg', 'content_token_vs_stop_words']\n",
    "\n",
    "def drop_columns_gm(columns):\n",
    "    drop_list = __generalized_model_exclusion()\n",
    "    drop_list.extend(columns)\n",
    "    return drop_list    \n",
    "\n",
    "def drop_columns_fm(columns):\n",
    "    drop_list = __full_model_exclusion()\n",
    "    drop_list.extend(columns)\n",
    "    return drop_list\n",
    "\n",
    "def __full_model_exclusion():\n",
    "    return __default_exclusion()\n",
    "\n",
    "def __generalized_model_exclusion():\n",
    "    exclusion = __default_exclusion()\n",
    "    exclusion.extend(['page_talk_edits',\n",
    "                        'tenure',\n",
    "                        'ns1_edit_dist',\n",
    "                        'ns2_edit_dist',\n",
    "                        'ns3_edit_dist',\n",
    "                        'ns4_edit_dist',\n",
    "                        'ns5_edit_dist',\n",
    "                        'ns6_edit_dist',\n",
    "                        'ns7_edit_dist',\n",
    "                        'ns8_edit_dist',\n",
    "                        'ns9_edit_dist',\n",
    "                        'ns10_edit_dist',\n",
    "                        'ns11_edit_dist',\n",
    "                        'ns12_edit_dist',\n",
    "                        'ns13_edit_dist',\n",
    "                        'ns14_edit_dist',\n",
    "                        'ns15_edit_dist',\n",
    "                        'total_edited_pages'])\n",
    "\n",
    "    \n",
    "    return exclusion\n",
    "    \n",
    "def get_metrics(classifier, x, y, cv):\n",
    "    results = cross_val_score(classifier, x, y, cv=cv)\n",
    "    \n",
    "    accuracy = results.mean()\n",
    "    precision = cross_val_score(classifier, x, y, scoring='precision', cv=cv).mean()\n",
    "    recall = cross_val_score(classifier, x, y, scoring='recall', cv=cv).mean()\n",
    "    f1 = cross_val_score(classifier, x, y, scoring='f1', cv=cv).mean()\n",
    "    roc_auc = cross_val_score(classifier, x, y, scoring='roc_auc', cv=cv).mean()\n",
    "\n",
    "#     print(results)\n",
    "#     print('Accuracy: %.3f%%' % accuracy)\n",
    "#     print('Precision: %.3f%%' % precision) \n",
    "#     print('Recall: %.3f%%' % recall)\n",
    "#     print('F1: %.3f%%' % f1)\n",
    "#     print('ROC AUC: %.3f%%' % roc_auc)\n",
    "#     print('\\n')\n",
    "    return [accuracy, precision, recall, f1, roc_auc]"
   ]
  },
  {
   "cell_type": "markdown",
   "metadata": {},
   "source": [
    "# Ablation Study"
   ]
  },
  {
   "cell_type": "code",
   "execution_count": 3,
   "metadata": {},
   "outputs": [
    {
     "name": "stdout",
     "output_type": "stream",
     "text": [
      "Total experts: 506\n",
      "Total non-experts: 514\n"
     ]
    }
   ],
   "source": [
    "# initializing params\n",
    "columns = ['Ablation Category', 'Accuracy', 'Precision', 'Recall', 'F1', 'ROC AUC']\n",
    "\n",
    "# initializing ablation categories\n",
    "baseline = []\n",
    "demographics = ['gender']\n",
    "focal_page_qty_co_prod = ['page_edits', 'page_edits_ratio', 'edit_period_q1', 'edit_period_q2', 'edit_period_q3', 'edit_period_q4', 'mean_edit_interval', 'mean_edit_size']\n",
    "focal_page_nature_co_prod = ['content_token_count', 'edit_type_a', 'edit_type_b', 'edit_type_c', 'edit_type_d', 'edit_type_e', 'edit_type_f', 'edit_type_g', 'edit_type_h', 'edit_type_i', 'edit_type_j', 'edit_type_k', 'edit_type_l', 'edit_type_m', 'content_token_vs_token']\n",
    "contribution_relevance = ['contribution_similarity']\n",
    "focal_page_quality_co_prod = ['avg_persistence']\n",
    "focal_page_coordination_qty = ['page_talk_edits']\n",
    "activity_in_wiki_community = ['tenure', 'total_edited_pages', 'ns1_edit_dist', 'ns2_edit_dist', 'ns3_edit_dist', 'ns4_edit_dist', 'ns5_edit_dist', 'ns6_edit_dist', 'ns7_edit_dist', 'ns8_edit_dist', 'ns9_edit_dist', 'ns10_edit_dist', 'ns11_edit_dist', 'ns12_edit_dist', 'ns13_edit_dist', 'ns14_edit_dist', 'ns15_edit_dist']\n",
    "topical_concetration = ['links_overlap', 'categories_overlap', 'title_similarity', 'summary_similarity']\n",
    "overall_wiki_activity = ['page_edit_dist', 'ns0_edit_dist']\n",
    "\n",
    "ablation_categories = {'*** All features ***': baseline,\n",
    "                       'Demographics': demographics,\n",
    "                       'Quantity of co-production activity within focal page': focal_page_qty_co_prod,\n",
    "                       'Nature of co-production activity within focal page': focal_page_nature_co_prod,\n",
    "                       'Relevance of one\\'s contributions to the page\\'s contents': contribution_relevance,\n",
    "                       'Quality of co-production activity within focal page': focal_page_quality_co_prod,\n",
    "                       'Quantity of coordination activity related to focal page': focal_page_coordination_qty,\n",
    "                       'Nature of activity in Wikipedia community': activity_in_wiki_community,\n",
    "                       'Topical concentration in co-production activity': topical_concetration,\n",
    "                       'Overall activity in co-production Wikipedia community': overall_wiki_activity}\n",
    "\n",
    "# loading data (training set)\n",
    "df = pd.read_csv('data/new_train_data.csv', header=0)\n",
    "print('Total experts: {}'.format(len(df[df.label == 1])))\n",
    "print('Total non-experts: {}'.format(len(df[df.label == 0])))"
   ]
  },
  {
   "cell_type": "code",
   "execution_count": 4,
   "metadata": {},
   "outputs": [
    {
     "name": "stdout",
     "output_type": "stream",
     "text": [
      "['edit_type_a', 'edit_type_b', 'edit_type_c', 'edit_type_d', 'edit_type_e', 'edit_type_f', 'edit_type_g', 'edit_type_h', 'edit_type_i', 'edit_type_j', 'edit_type_k', 'edit_type_l', 'edit_type_m']\n"
     ]
    }
   ],
   "source": [
    "df.drop(['edit_type_exists'], axis=1, inplace=True)\n",
    "edit_types = [col for col in df.columns if str(col).startswith('edit_type')]\n",
    "print(edit_types)\n",
    "for edit_type in edit_types:\n",
    "    df[edit_type].fillna(value=-1, inplace=True)  "
   ]
  },
  {
   "cell_type": "code",
   "execution_count": 5,
   "metadata": {
    "collapsed": true
   },
   "outputs": [
    {
     "name": "stderr",
     "output_type": "stream",
     "text": [
      "/home/yarov/anaconda3/lib/python3.7/site-packages/sklearn/model_selection/_search.py:841: DeprecationWarning: The default of the `iid` parameter will change from True to False in version 0.22 and will be removed in 0.24. This will change numeric results when test-set sizes are unequal.\n",
      "  DeprecationWarning)\n"
     ]
    },
    {
     "name": "stdout",
     "output_type": "stream",
     "text": [
      "Best: -0.492550 using {'learning_rate': 0.1, 'n_estimators': 160}\n",
      "-0.690369 (0.000305) with: {'learning_rate': 0.0001, 'n_estimators': 100}\n",
      "-0.689820 (0.000366) with: {'learning_rate': 0.0001, 'n_estimators': 120}\n",
      "-0.689273 (0.000426) with: {'learning_rate': 0.0001, 'n_estimators': 140}\n",
      "-0.688728 (0.000486) with: {'learning_rate': 0.0001, 'n_estimators': 160}\n",
      "-0.688186 (0.000546) with: {'learning_rate': 0.0001, 'n_estimators': 180}\n",
      "-0.687646 (0.000606) with: {'learning_rate': 0.0001, 'n_estimators': 200}\n",
      "-0.667594 (0.002966) with: {'learning_rate': 0.001, 'n_estimators': 100}\n",
      "-0.663039 (0.003544) with: {'learning_rate': 0.001, 'n_estimators': 120}\n",
      "-0.658674 (0.004110) with: {'learning_rate': 0.001, 'n_estimators': 140}\n",
      "-0.654522 (0.004655) with: {'learning_rate': 0.001, 'n_estimators': 160}\n",
      "-0.650556 (0.005173) with: {'learning_rate': 0.001, 'n_estimators': 180}\n",
      "-0.646801 (0.005687) with: {'learning_rate': 0.001, 'n_estimators': 200}\n",
      "-0.564424 (0.020444) with: {'learning_rate': 0.01, 'n_estimators': 100}\n",
      "-0.554802 (0.021766) with: {'learning_rate': 0.01, 'n_estimators': 120}\n",
      "-0.547086 (0.023180) with: {'learning_rate': 0.01, 'n_estimators': 140}\n",
      "-0.541357 (0.024464) with: {'learning_rate': 0.01, 'n_estimators': 160}\n",
      "-0.536780 (0.025621) with: {'learning_rate': 0.01, 'n_estimators': 180}\n",
      "-0.532639 (0.026834) with: {'learning_rate': 0.01, 'n_estimators': 200}\n",
      "-0.496897 (0.034060) with: {'learning_rate': 0.1, 'n_estimators': 100}\n",
      "-0.494958 (0.036765) with: {'learning_rate': 0.1, 'n_estimators': 120}\n",
      "-0.494229 (0.036572) with: {'learning_rate': 0.1, 'n_estimators': 140}\n",
      "-0.492550 (0.036534) with: {'learning_rate': 0.1, 'n_estimators': 160}\n",
      "-0.492636 (0.036811) with: {'learning_rate': 0.1, 'n_estimators': 180}\n",
      "-0.492724 (0.037951) with: {'learning_rate': 0.1, 'n_estimators': 200}\n",
      "-0.500953 (0.038962) with: {'learning_rate': 0.2, 'n_estimators': 100}\n",
      "-0.503585 (0.039258) with: {'learning_rate': 0.2, 'n_estimators': 120}\n",
      "-0.507075 (0.044740) with: {'learning_rate': 0.2, 'n_estimators': 140}\n",
      "-0.511803 (0.047283) with: {'learning_rate': 0.2, 'n_estimators': 160}\n",
      "-0.513337 (0.048484) with: {'learning_rate': 0.2, 'n_estimators': 180}\n",
      "-0.521792 (0.050930) with: {'learning_rate': 0.2, 'n_estimators': 200}\n",
      "-0.504423 (0.051198) with: {'learning_rate': 0.3, 'n_estimators': 100}\n",
      "-0.514965 (0.050922) with: {'learning_rate': 0.3, 'n_estimators': 120}\n",
      "-0.530464 (0.053421) with: {'learning_rate': 0.3, 'n_estimators': 140}\n",
      "-0.543056 (0.054588) with: {'learning_rate': 0.3, 'n_estimators': 160}\n",
      "-0.555697 (0.063206) with: {'learning_rate': 0.3, 'n_estimators': 180}\n",
      "-0.569305 (0.065201) with: {'learning_rate': 0.3, 'n_estimators': 200}\n"
     ]
    },
    {
     "data": {
      "image/png": "[encoded data removed]",
      "text/plain": [
       "<Figure size 432x288 with 1 Axes>"
      ]
     },
     "metadata": {
      "needs_background": "light"
     },
     "output_type": "display_data"
    }
   ],
   "source": [
    "model = XGBClassifier()\n",
    "\n",
    "n_estimators = [100, 120, 140, 160, 180, 200]\n",
    "learning_rate = [0.0001, 0.001, 0.01, 0.1, 0.2, 0.3]\n",
    "param_grid = dict(learning_rate=learning_rate, n_estimators=n_estimators)\n",
    "\n",
    "X = df.drop(drop_columns_gm([]), axis=1)\n",
    "y = df.label\n",
    "\n",
    "kfold = StratifiedKFold(n_splits=10, shuffle=True, random_state=7)\n",
    "grid_search = GridSearchCV(model, param_grid, scoring=\"neg_log_loss\", n_jobs=-1, cv=kfold)\n",
    "grid_result = grid_search.fit(X, y)\n",
    "\n",
    "# summarize results\n",
    "print(\"Best: %f using %s\" % (grid_result.best_score_, grid_result.best_params_))\n",
    "means = grid_result.cv_results_['mean_test_score']\n",
    "stds = grid_result.cv_results_['std_test_score']\n",
    "params = grid_result.cv_results_['params']\n",
    "for mean, stdev, param in zip(means, stds, params):\n",
    "\tprint(\"%f (%f) with: %r\" % (mean, stdev, param))\n",
    "# plot results\n",
    "scores = np.array(means).reshape(len(learning_rate), len(n_estimators))\n",
    "for i, value in enumerate(learning_rate):\n",
    "    plt.plot(n_estimators, scores[i], label='learning_rate: ' + str(value))\n",
    "plt.legend()\n",
    "plt.xlabel('n_estimators')\n",
    "plt.ylabel('Log Loss')\n",
    "plt.savefig('n_estimators_vs_learning_rate.png')"
   ]
  },
  {
   "cell_type": "markdown",
   "metadata": {},
   "source": [
    "## Generalized model"
   ]
  },
  {
   "cell_type": "code",
   "execution_count": 5,
   "metadata": {},
   "outputs": [
    {
     "name": "stdout",
     "output_type": "stream",
     "text": [
      "Ablation Category: Baseline\n",
      "Columns: ['page_edits', 'page_edits_ratio', 'edit_period_q1', 'edit_period_q2', 'edit_period_q3', 'edit_period_q4', 'mean_edit_interval', 'mean_edit_size', 'gender', 'ns0_edit_dist', 'page_edit_dist', 'links_overlap', 'categories_overlap', 'title_similarity', 'summary_similarity', 'avg_persistence', 'content_token_count', 'content_token_vs_token', 'contribution_similarity', 'persistence_exists', 'edit_type_a', 'edit_type_b', 'edit_type_c', 'edit_type_d', 'edit_type_e', 'edit_type_f', 'edit_type_g', 'edit_type_h', 'edit_type_i', 'edit_type_j', 'edit_type_k', 'edit_type_l', 'edit_type_m']\n",
      "\n",
      "Ablation Category: Demographics\n",
      "Columns: ['page_edits', 'page_edits_ratio', 'edit_period_q1', 'edit_period_q2', 'edit_period_q3', 'edit_period_q4', 'mean_edit_interval', 'mean_edit_size', 'ns0_edit_dist', 'page_edit_dist', 'links_overlap', 'categories_overlap', 'title_similarity', 'summary_similarity', 'avg_persistence', 'content_token_count', 'content_token_vs_token', 'contribution_similarity', 'persistence_exists', 'edit_type_a', 'edit_type_b', 'edit_type_c', 'edit_type_d', 'edit_type_e', 'edit_type_f', 'edit_type_g', 'edit_type_h', 'edit_type_i', 'edit_type_j', 'edit_type_k', 'edit_type_l', 'edit_type_m']\n",
      "\n",
      "Ablation Category: Quantity of co-production activity within focal page\n",
      "Columns: ['gender', 'ns0_edit_dist', 'page_edit_dist', 'links_overlap', 'categories_overlap', 'title_similarity', 'summary_similarity', 'avg_persistence', 'content_token_count', 'content_token_vs_token', 'contribution_similarity', 'persistence_exists', 'edit_type_a', 'edit_type_b', 'edit_type_c', 'edit_type_d', 'edit_type_e', 'edit_type_f', 'edit_type_g', 'edit_type_h', 'edit_type_i', 'edit_type_j', 'edit_type_k', 'edit_type_l', 'edit_type_m']\n",
      "\n",
      "Ablation Category: Nature of co-production activity within focal page\n",
      "Columns: ['page_edits', 'page_edits_ratio', 'edit_period_q1', 'edit_period_q2', 'edit_period_q3', 'edit_period_q4', 'mean_edit_interval', 'mean_edit_size', 'gender', 'ns0_edit_dist', 'page_edit_dist', 'links_overlap', 'categories_overlap', 'title_similarity', 'summary_similarity', 'avg_persistence', 'contribution_similarity', 'persistence_exists']\n",
      "\n",
      "Ablation Category: Relevance of one's contributions to the page's contents\n",
      "Columns: ['page_edits', 'page_edits_ratio', 'edit_period_q1', 'edit_period_q2', 'edit_period_q3', 'edit_period_q4', 'mean_edit_interval', 'mean_edit_size', 'gender', 'ns0_edit_dist', 'page_edit_dist', 'links_overlap', 'categories_overlap', 'title_similarity', 'summary_similarity', 'avg_persistence', 'content_token_count', 'content_token_vs_token', 'persistence_exists', 'edit_type_a', 'edit_type_b', 'edit_type_c', 'edit_type_d', 'edit_type_e', 'edit_type_f', 'edit_type_g', 'edit_type_h', 'edit_type_i', 'edit_type_j', 'edit_type_k', 'edit_type_l', 'edit_type_m']\n",
      "\n",
      "Ablation Category: Quality of co-production activity within focal page\n",
      "Columns: ['page_edits', 'page_edits_ratio', 'edit_period_q1', 'edit_period_q2', 'edit_period_q3', 'edit_period_q4', 'mean_edit_interval', 'mean_edit_size', 'gender', 'ns0_edit_dist', 'page_edit_dist', 'links_overlap', 'categories_overlap', 'title_similarity', 'summary_similarity', 'content_token_count', 'content_token_vs_token', 'contribution_similarity', 'persistence_exists', 'edit_type_a', 'edit_type_b', 'edit_type_c', 'edit_type_d', 'edit_type_e', 'edit_type_f', 'edit_type_g', 'edit_type_h', 'edit_type_i', 'edit_type_j', 'edit_type_k', 'edit_type_l', 'edit_type_m']\n",
      "\n",
      "Ablation Category: Quantity of coordination activity related to focal page\n",
      "Columns: ['page_edits', 'page_edits_ratio', 'edit_period_q1', 'edit_period_q2', 'edit_period_q3', 'edit_period_q4', 'mean_edit_interval', 'mean_edit_size', 'gender', 'ns0_edit_dist', 'page_edit_dist', 'links_overlap', 'categories_overlap', 'title_similarity', 'summary_similarity', 'avg_persistence', 'content_token_count', 'content_token_vs_token', 'contribution_similarity', 'persistence_exists', 'edit_type_a', 'edit_type_b', 'edit_type_c', 'edit_type_d', 'edit_type_e', 'edit_type_f', 'edit_type_g', 'edit_type_h', 'edit_type_i', 'edit_type_j', 'edit_type_k', 'edit_type_l', 'edit_type_m']\n",
      "\n",
      "Ablation Category: Nature of activity in Wikipedia community\n",
      "Columns: ['page_edits', 'page_edits_ratio', 'edit_period_q1', 'edit_period_q2', 'edit_period_q3', 'edit_period_q4', 'mean_edit_interval', 'mean_edit_size', 'gender', 'ns0_edit_dist', 'page_edit_dist', 'links_overlap', 'categories_overlap', 'title_similarity', 'summary_similarity', 'avg_persistence', 'content_token_count', 'content_token_vs_token', 'contribution_similarity', 'persistence_exists', 'edit_type_a', 'edit_type_b', 'edit_type_c', 'edit_type_d', 'edit_type_e', 'edit_type_f', 'edit_type_g', 'edit_type_h', 'edit_type_i', 'edit_type_j', 'edit_type_k', 'edit_type_l', 'edit_type_m']\n",
      "\n",
      "Ablation Category: Topical concentration in co-production activity\n",
      "Columns: ['page_edits', 'page_edits_ratio', 'edit_period_q1', 'edit_period_q2', 'edit_period_q3', 'edit_period_q4', 'mean_edit_interval', 'mean_edit_size', 'gender', 'ns0_edit_dist', 'page_edit_dist', 'avg_persistence', 'content_token_count', 'content_token_vs_token', 'contribution_similarity', 'persistence_exists', 'edit_type_a', 'edit_type_b', 'edit_type_c', 'edit_type_d', 'edit_type_e', 'edit_type_f', 'edit_type_g', 'edit_type_h', 'edit_type_i', 'edit_type_j', 'edit_type_k', 'edit_type_l', 'edit_type_m']\n",
      "\n",
      "Ablation Category: Overall activity in co-production Wikipedia community\n",
      "Columns: ['page_edits', 'page_edits_ratio', 'edit_period_q1', 'edit_period_q2', 'edit_period_q3', 'edit_period_q4', 'mean_edit_interval', 'mean_edit_size', 'gender', 'links_overlap', 'categories_overlap', 'title_similarity', 'summary_similarity', 'avg_persistence', 'content_token_count', 'content_token_vs_token', 'contribution_similarity', 'persistence_exists', 'edit_type_a', 'edit_type_b', 'edit_type_c', 'edit_type_d', 'edit_type_e', 'edit_type_f', 'edit_type_g', 'edit_type_h', 'edit_type_i', 'edit_type_j', 'edit_type_k', 'edit_type_l', 'edit_type_m']\n",
      "\n"
     ]
    }
   ],
   "source": [
    "gm_rows = []\n",
    "for ablation_category in ablation_categories.keys():\n",
    "    print('Ablation Category: ' + ablation_category)\n",
    "    X = df.drop(drop_columns_gm(ablation_categories[ablation_category]), axis=1)\n",
    "    print('Columns: {}\\n'.format(list(X.columns)))\n",
    "    y = df.label\n",
    "    kfold = StratifiedKFold(n_splits=10, random_state=7)\n",
    "    model = XGBClassifier(objective='binary:logistic', seed=123, n_estimators=160)\n",
    "    metrics = get_metrics(classifier=model, x=X, y=y, cv=kfold)\n",
    "    \n",
    "    gm_row = [ablation_category]\n",
    "    for metric in metrics:\n",
    "        gm_row.append(metric)\n",
    "    gm_rows.append(gm_row)\n",
    "\n",
    "gm_df = pd.DataFrame(gm_rows, columns=columns)\n",
    "gm_df.to_csv('data/new_ablation_study_gm.csv', index=False)"
   ]
  },
  {
   "cell_type": "markdown",
   "metadata": {},
   "source": [
    "## Full model"
   ]
  },
  {
   "cell_type": "code",
   "execution_count": 6,
   "metadata": {},
   "outputs": [
    {
     "name": "stdout",
     "output_type": "stream",
     "text": [
      "Ablation Category: Baseline\n",
      "Ablation Category: Demographics\n",
      "Ablation Category: Quantity of co-production activity within focal page\n",
      "Ablation Category: Nature of co-production activity within focal page\n",
      "Ablation Category: Relevance of one's contributions to the page's contents\n",
      "Ablation Category: Quality of co-production activity within focal page\n",
      "Ablation Category: Quantity of coordination activity related to focal page\n",
      "Ablation Category: Nature of activity in Wikipedia community\n",
      "Ablation Category: Topical concentration in co-production activity\n",
      "Ablation Category: Overall activity in co-production Wikipedia community\n"
     ]
    }
   ],
   "source": [
    "fm_rows = []\n",
    "for ablation_category in ablation_categories.keys():\n",
    "    print('Ablation Category: ' + ablation_category)\n",
    "    X = df.drop(drop_columns_fm(ablation_categories[ablation_category]), axis=1)\n",
    "    y = df.label\n",
    "    kfold = StratifiedKFold(n_splits=10, random_state=7)\n",
    "    model = XGBClassifier(objective='binary:logistic', seed=123, n_estimators=160)\n",
    "    metrics = get_metrics(classifier=model, x=X, y=y, cv=kfold)\n",
    "    \n",
    "    fm_row = [ablation_category]\n",
    "    for metric in metrics:\n",
    "        fm_row.append(metric)\n",
    "    fm_rows.append(fm_row)\n",
    "\n",
    "fm_df = pd.DataFrame(fm_rows, columns=columns)\n",
    "fm_df.to_csv('data/new_ablation_study_fm.csv', index=False)"
   ]
  }
 ],
 "metadata": {
  "kernelspec": {
   "display_name": "Python 3",
   "language": "python",
   "name": "python3"
  },
  "language_info": {
   "codemirror_mode": {
    "name": "ipython",
    "version": 3
   },
   "file_extension": ".py",
   "mimetype": "text/x-python",
   "name": "python",
   "nbconvert_exporter": "python",
   "pygments_lexer": "ipython3",
   "version": "3.7.1"
  }
 },
 "nbformat": 4,
 "nbformat_minor": 2
}
